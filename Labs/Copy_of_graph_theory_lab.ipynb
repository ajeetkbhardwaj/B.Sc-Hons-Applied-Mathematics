{
  "cells": [
    {
      "cell_type": "code",
      "execution_count": null,
      "id": "9a73e27d-2767-4c3b-af70-e29f35e5f0ef",
      "metadata": {
        "colab": {
          "base_uri": "https://localhost:8080/"
        },
        "id": "9a73e27d-2767-4c3b-af70-e29f35e5f0ef",
        "outputId": "31fcec66-0147-4aeb-eb2f-326cdc8f9e1e"
      },
      "outputs": [
        {
          "output_type": "stream",
          "name": "stdout",
          "text": [
            "[(5, 6), (5, 7), (5, 8), (6, 7), (6, 8), (7, 8)]\n"
          ]
        }
      ],
      "source": [
        "import itertools\n",
        "def generate_graphs(vertices):\n",
        "    edges=list(itertools.combinations(vertices,2))\n",
        "    return edges\n",
        "\n",
        "vertices=[5,6,7,8]\n",
        "graphs=generate_graphs(vertices)\n",
        "print(graphs)"
      ]
    },
    {
      "cell_type": "code",
      "source": [],
      "metadata": {
        "id": "LQ6MrfXW_1Q-"
      },
      "id": "LQ6MrfXW_1Q-",
      "execution_count": null,
      "outputs": []
    },
    {
      "cell_type": "code",
      "execution_count": null,
      "id": "081f6780-aeb2-45c2-bcf3-3bde300728e7",
      "metadata": {
        "id": "081f6780-aeb2-45c2-bcf3-3bde300728e7",
        "outputId": "33763fc3-ae06-432f-912f-01818c208f14"
      },
      "outputs": [
        {
          "name": "stdout",
          "output_type": "stream",
          "text": [
            "Requirement already satisfied: networkx in c:\\users\\prach\\anaconda3\\lib\\site-packages (3.2.1)\n",
            "Note: you may need to restart the kernel to use updated packages.\n"
          ]
        }
      ],
      "source": [
        "pip install networkx"
      ]
    },
    {
      "cell_type": "code",
      "execution_count": null,
      "id": "2cfad12c-c78a-431b-b96e-b0ad498f69d2",
      "metadata": {
        "colab": {
          "base_uri": "https://localhost:8080/",
          "height": 649
        },
        "id": "2cfad12c-c78a-431b-b96e-b0ad498f69d2",
        "outputId": "57643295-5506-4f10-cdcc-edf3e84085c5"
      },
      "outputs": [
        {
          "output_type": "stream",
          "name": "stderr",
          "text": [
            "WARNING:matplotlib.font_manager:findfont: Font family 'calibri' not found.\n",
            "WARNING:matplotlib.font_manager:findfont: Font family 'calibri' not found.\n",
            "WARNING:matplotlib.font_manager:findfont: Font family 'calibri' not found.\n",
            "WARNING:matplotlib.font_manager:findfont: Font family 'calibri' not found.\n",
            "WARNING:matplotlib.font_manager:findfont: Font family 'calibri' not found.\n",
            "WARNING:matplotlib.font_manager:findfont: Font family 'calibri' not found.\n",
            "WARNING:matplotlib.font_manager:findfont: Font family 'calibri' not found.\n",
            "WARNING:matplotlib.font_manager:findfont: Font family 'calibri' not found.\n",
            "WARNING:matplotlib.font_manager:findfont: Font family 'calibri' not found.\n",
            "WARNING:matplotlib.font_manager:findfont: Font family 'calibri' not found.\n",
            "WARNING:matplotlib.font_manager:findfont: Font family 'calibri' not found.\n",
            "WARNING:matplotlib.font_manager:findfont: Font family 'calibri' not found.\n",
            "WARNING:matplotlib.font_manager:findfont: Font family 'calibri' not found.\n",
            "WARNING:matplotlib.font_manager:findfont: Font family 'calibri' not found.\n"
          ]
        },
        {
          "output_type": "display_data",
          "data": {
            "text/plain": [
              "<Figure size 640x480 with 1 Axes>"
            ],
            "image/png": "[encoded data removed]"
          },
          "metadata": {}
        }
      ],
      "source": [
        "import itertools\n",
        "import networkx as nx\n",
        "import matplotlib.pyplot as plt\n",
        "G=nx.Graph()\n",
        "def display_graph(vertices,edges):\n",
        "\n",
        "    G.add_nodes_from(vertices)\n",
        "    G.add_edges_from(edges)\n",
        "    pos=nx.spring_layout(G)\n",
        "    nx.draw_networkx_nodes(G,pos,node_size=100,node_color='yellow',alpha=0.2)\n",
        "    nx.draw_networkx_edges(G,pos,width=0.4,alpha=0.5)\n",
        "    nx.draw_networkx_labels(G,pos,font_size=6,font_family='calibri')\n",
        "    plt.show()\n",
        "\n",
        "display_graph(vertices,graphs)"
      ]
    },
    {
      "cell_type": "code",
      "execution_count": null,
      "id": "40f87783-3a87-440e-b661-089e7ae1f38b",
      "metadata": {
        "colab": {
          "base_uri": "https://localhost:8080/"
        },
        "id": "40f87783-3a87-440e-b661-089e7ae1f38b",
        "outputId": "a5d44060-e02d-49df-a213-0eb2507de5c1"
      },
      "outputs": [
        {
          "output_type": "stream",
          "name": "stdout",
          "text": [
            "True\n"
          ]
        }
      ],
      "source": [
        "def check_bipartite(g):\n",
        "  print(nx.is_bipartite(g))\n",
        "\n",
        "\n",
        "G=nx.cycle_graph(4)\n",
        "check_bipartite(G)"
      ]
    },
    {
      "cell_type": "code",
      "source": [
        "def check_regular(g):\n",
        "  print(nx.is_regular(g))\n",
        "\n",
        "G=nx.complete_graph(4)\n",
        "S=nx.star_graph(6)\n",
        "check_regular(S)"
      ],
      "metadata": {
        "colab": {
          "base_uri": "https://localhost:8080/"
        },
        "id": "2VPgH242hFWm",
        "outputId": "f0fbbf47-7844-49d9-9bbc-8768deb42aa0"
      },
      "id": "2VPgH242hFWm",
      "execution_count": null,
      "outputs": [
        {
          "output_type": "stream",
          "name": "stdout",
          "text": [
            "False\n"
          ]
        }
      ]
    },
    {
      "cell_type": "markdown",
      "source": [
        "REGULAR **GRAPH**"
      ],
      "metadata": {
        "id": "5Mg0ueCpXzHj"
      },
      "id": "5Mg0ueCpXzHj"
    },
    {
      "cell_type": "code",
      "source": [
        "def is_regular(graph):\n",
        "\n",
        "    degree = len(graph[0])\n",
        "\n",
        "\n",
        "    for node in graph:\n",
        "        if len(node) != degree:\n",
        "            return False\n",
        "    return True\n",
        "# graph with 4 nodes (0, 1, 2, 3)\n",
        "\n",
        "graph = [\n",
        "    [1, 2],  # Node 0 is connected to Node 1 and Node 2\n",
        "    [0, 3],  # Node 1 is connected to Node 0 and Node 3\n",
        "    [0, 3],  # Node 2 is connected to Node 0 and Node 3\n",
        "    [1, 2]   # Node 3 is connected to Node 1 and Node 2\n",
        "]\n",
        "\n",
        "\n",
        "if is_regular(graph):\n",
        "    print(\"The graph is regular.\")\n",
        "else:\n",
        "    print(\"The graph is not regular.\")\n",
        "\n",
        "\n",
        "\n",
        "\n",
        "non_regular_graph = [\n",
        "     [1],       # Node 0 is connected to Node 1\n",
        "    [0, 2, 3], # Node 1 is connected to Nodes 0, 2, and 3 (degree 3)\n",
        "    [1, 3],    # Node 2 is connected to Nodes 1 and 3\n",
        "    [1, 2]     # Node 3 is connected to Nodes 1 and 2\n",
        "]\n",
        "\n",
        "# Check if the non-regular graph is regular\n",
        "if is_regular(non_regular_graph):\n",
        "    print(\"The non-regular graph is regular.\")\n",
        "else:\n",
        "    print(\"The non-regular graph is not regular.\")"
      ],
      "metadata": {
        "colab": {
          "base_uri": "https://localhost:8080/"
        },
        "id": "ak8c5emnYHAV",
        "outputId": "24be6795-a3f8-497b-d8b0-27c51c51819f"
      },
      "id": "ak8c5emnYHAV",
      "execution_count": null,
      "outputs": [
        {
          "output_type": "stream",
          "name": "stdout",
          "text": [
            "The graph is regular.\n",
            "The non-regular graph is not regular.\n"
          ]
        }
      ]
    },
    {
      "cell_type": "markdown",
      "source": [
        "**DEGREE SEQUENCE**"
      ],
      "metadata": {
        "id": "JYhU0oisYKAE"
      },
      "id": "JYhU0oisYKAE"
    },
    {
      "cell_type": "code",
      "source": [
        "def degree_sequence(graph):\n",
        "   degrees = [len(neighbors) for neighbors in graph]\n",
        "\n",
        "    return sorted(degrees, reverse=True)\n",
        "graph1 = [\n",
        "    [1, 2],  # Node 0 is connected to Node 1 and Node 2\n",
        "    [0, 3],  # Node 1 is connected to Node 0 and Node 3\n",
        "    [0, 3],  # Node 2 is connected to Node 0 and Node 3\n",
        "    [1, 2]   # Node 3 is connected to Node 1 and Node 2\n",
        "]\n",
        "graph2 = [\n",
        "    [1, 2, 3],  # Node 0 is connected to Node 1, Node 2, and Node 3\n",
        "    [0, 2],     # Node 1 is connected to Node 0 and Node 2\n",
        "    [0, 1, 3],  # Node 2 is connected to Node 0, Node 1, and Node 3\n",
        "    [0, 2]      # Node 3 is connected to Node 0 and Node 2\n",
        "]\n",
        "degrees1 = degree_sequence(graph1)\n",
        "degrees2 = degree_sequence(graph2)\n",
        "print(\"Degree sequence of graph1:\", degrees1)\n",
        "print(\"Degree sequence of graph2:\", degrees2)\n"
      ],
      "metadata": {
        "colab": {
          "base_uri": "https://localhost:8080/"
        },
        "id": "uscYaNhMYPjC",
        "outputId": "3f96ac1c-a89c-4196-a25f-6dabea5e12c7"
      },
      "id": "uscYaNhMYPjC",
      "execution_count": null,
      "outputs": [
        {
          "output_type": "stream",
          "name": "stdout",
          "text": [
            "Degree sequence of graph1: [2, 2, 2, 2]\n",
            "Degree sequence of graph2: [3, 3, 2, 2]\n"
          ]
        }
      ]
    },
    {
      "cell_type": "markdown",
      "source": [
        "**TO CHECK PLANAR GRAPH**"
      ],
      "metadata": {
        "id": "LVx0xRKZZKGE"
      },
      "id": "LVx0xRKZZKGE"
    },
    {
      "cell_type": "code",
      "source": [
        "\n",
        "# Function to check if a graph is planar based on Euler's formula (approximation)\n",
        "def is_planar(graph):\n",
        "    V = len(graph)\n",
        "    E = sum(len(neighbors) for neighbors in graph) // 2\n",
        "    if V < 3:\n",
        "        return True\n",
        "\n",
        "\n",
        "    if E <= 3 * V - 6:\n",
        "        return True\n",
        "    else:\n",
        "        return False\n",
        "graph = [\n",
        "    [1, 2],  # Node 0 is connected to Node 1 and Node 2\n",
        "    [0, 3],  # Node 1 is connected to Node 0 and Node 3\n",
        "    [0, 3],  # Node 2 is connected to Node 0 and Node 3\n",
        "    [1, 2]   # Node 3 is connected to Node 1 and Node 2\n",
        "]\n",
        "\n",
        "print(\"Graph is planar:\", is_planar(graph))\n"
      ],
      "metadata": {
        "colab": {
          "base_uri": "https://localhost:8080/"
        },
        "id": "CLeTSQXAauO0",
        "outputId": "60f84050-47ff-4eb4-827a-6f25650ac64f"
      },
      "id": "CLeTSQXAauO0",
      "execution_count": null,
      "outputs": [
        {
          "output_type": "stream",
          "name": "stdout",
          "text": [
            "Graph is planar: True\n"
          ]
        }
      ]
    },
    {
      "cell_type": "code",
      "source": [
        "# Non-planar graph K5 (Complete graph on 5 vertices)\n",
        "K5_graph = [\n",
        "    [1, 2, 3, 4],  # Node 0 is connected to Node 1, 2, 3, 4\n",
        "    [0, 2, 3, 4],  # Node 1 is connected to Node 0, 2, 3, 4\n",
        "    [0, 1, 3, 4],  # Node 2 is connected to Node 0, 1, 3, 4\n",
        "    [0, 1, 2, 4],  # Node 3 is connected to Node 0, 1, 2, 4\n",
        "    [0, 1, 2, 3]   # Node 4 is connected to Node 0, 1, 2, 3\n",
        "]\n",
        "\n",
        "# Function to check if a graph is planar based on Euler's formula (approximation)\n",
        "def is_planar(graph):\n",
        "    V = len(graph)\n",
        "    E = sum(len(neighbors) for neighbors in graph) // 2\n",
        "\n",
        "    if V < 3:\n",
        "        return True\n",
        "\n",
        "\n",
        "    if E <= 3 * V - 6:\n",
        "        return True\n",
        "\n",
        "\n",
        "    else:\n",
        "        return False\n",
        "\n",
        "\n",
        "print(\"K5 graph is planar:\", is_planar(K5_graph))\n"
      ],
      "metadata": {
        "colab": {
          "base_uri": "https://localhost:8080/"
        },
        "id": "PvKE_hB-bXBj",
        "outputId": "991d19d0-7d44-49df-d1e7-b02c31e51135"
      },
      "id": "PvKE_hB-bXBj",
      "execution_count": null,
      "outputs": [
        {
          "output_type": "stream",
          "name": "stdout",
          "text": [
            "K5 graph is planar: False\n"
          ]
        }
      ]
    },
    {
      "cell_type": "markdown",
      "source": [
        "EULERIAN CIRCUIT"
      ],
      "metadata": {
        "id": "SrECcfqpQ33J"
      },
      "id": "SrECcfqpQ33J"
    },
    {
      "cell_type": "code",
      "source": [
        "# Function to check if the graph has an Eulerian path or circuit\n",
        "def has_eulerian_path(graph):\n",
        "\n",
        "    odd_count = sum(1 for neighbors in graph.values() if len(neighbors) % 2 != 0)\n",
        "\n",
        "\n",
        "    return odd_count == 0 or odd_count == 2\n",
        "\n",
        "\n",
        "graph = {\n",
        "    0: [1, 2],\n",
        "    1: [0, 2],\n",
        "    2: [0, 1, 3],\n",
        "    3: [2]\n",
        "}\n",
        "\n",
        "print(\"Graph has Eulerian path or circuit:\", has_eulerian_path(graph))\n"
      ],
      "metadata": {
        "colab": {
          "base_uri": "https://localhost:8080/"
        },
        "id": "mx2i16TMQ7Tw",
        "outputId": "5009177d-55da-4947-92ab-0f5de3edbe79"
      },
      "id": "mx2i16TMQ7Tw",
      "execution_count": null,
      "outputs": [
        {
          "output_type": "stream",
          "name": "stdout",
          "text": [
            "Graph has Eulerian path or circuit: True\n"
          ]
        }
      ]
    },
    {
      "cell_type": "markdown",
      "source": [
        "ADJACENCY MATRIX"
      ],
      "metadata": {
        "id": "5wqg_4XiaZ1g"
      },
      "id": "5wqg_4XiaZ1g"
    },
    {
      "cell_type": "code",
      "source": [
        "def create_adjacency_matrix(V, edges):\n",
        "    # Initialize an empty V x V matrix with all zeros\n",
        "    matrix = [[0] * V for _ in range(V)]\n",
        "\n",
        "\n",
        "    for edge in edges:\n",
        "        u, v = edge\n",
        "        matrix[u][v] = 1\n",
        "        matrix[v][u] = 1\n",
        "\n",
        "    return matrix\n",
        "\n",
        "\n",
        "# Example 1\n",
        "V1 = 3\n",
        "edges1 = [(0, 1), (1, 2), (2, 0)]\n",
        "adj_matrix1 = create_adjacency_matrix(V1, edges1)\n",
        "for row in adj_matrix1:\n",
        "    print(row)\n",
        "print()\n",
        "\n",
        "# Example 2\n",
        "V2 = 4\n",
        "edges2 = [(0, 1), (1, 2), (1, 3), (2, 3), (3, 0)]\n",
        "adj_matrix2 = create_adjacency_matrix(V2, edges2)\n",
        "for row in adj_matrix2:\n",
        "    print(row)\n"
      ],
      "metadata": {
        "id": "K5YPL2h6aQoJ"
      },
      "id": "K5YPL2h6aQoJ",
      "execution_count": null,
      "outputs": []
    },
    {
      "cell_type": "code",
      "source": [
        "DIRECTED GRAPH"
      ],
      "metadata": {
        "id": "7yqtlwpVaufy"
      },
      "id": "7yqtlwpVaufy",
      "execution_count": null,
      "outputs": []
    },
    {
      "cell_type": "code",
      "source": [
        "def compute_degrees(graph):\n",
        "    # Initialize in-degree and out-degree dictionaries\n",
        "    in_degree = {node: 0 for node in range(len(graph))}\n",
        "    out_degree = {node: 0 for node in range(len(graph))}\n",
        "\n",
        "    # Calculate out-degrees and in-degrees\n",
        "    for node, neighbors in enumerate(graph):\n",
        "        out_degree[node] = len(neighbors)\n",
        "        for neighbor in neighbors:\n",
        "            in_degree[neighbor] += 1\n",
        "\n",
        "    return in_degree, out_degree\n",
        "\n",
        "directed_graph = [\n",
        "    [1, 2],  # Node 0 points to Node 1 and Node 2\n",
        "    [2],     # Node 1 points to Node 2\n",
        "    [0],     # Node 2 points to Node 0\n",
        "    [1, 2]   # Node 3 points to Node 1 and Node 2\n",
        "]\n",
        "\n",
        "# Compute in-degrees and out-degrees\n",
        "in_degree, out_degree = compute_degrees(directed_graph)\n",
        "\n",
        "# Print the results\n",
        "print(\"In-Degree:\", in_degree)\n",
        "print(\"Out-Degree:\", out_degree)\n"
      ],
      "metadata": {
        "id": "s0uG2_CYawdK"
      },
      "id": "s0uG2_CYawdK",
      "execution_count": null,
      "outputs": []
    },
    {
      "cell_type": "markdown",
      "source": [],
      "metadata": {
        "id": "bXGM2GPrRcE4"
      },
      "id": "bXGM2GPrRcE4"
    },
    {
      "cell_type": "markdown",
      "source": [
        "**bold text**"
      ],
      "metadata": {
        "id": "pY3Blr7QYZGc"
      },
      "id": "pY3Blr7QYZGc"
    }
  ],
  "metadata": {
    "kernelspec": {
      "display_name": "Python 3 (ipykernel)",
      "language": "python",
      "name": "python3"
    },
    "language_info": {
      "codemirror_mode": {
        "name": "ipython",
        "version": 3
      },
      "file_extension": ".py",
      "mimetype": "text/x-python",
      "name": "python",
      "nbconvert_exporter": "python",
      "pygments_lexer": "ipython3",
      "version": "3.12.4"
    },
    "colab": {
      "provenance": []
    }
  },
  "nbformat": 4,
  "nbformat_minor": 5
}