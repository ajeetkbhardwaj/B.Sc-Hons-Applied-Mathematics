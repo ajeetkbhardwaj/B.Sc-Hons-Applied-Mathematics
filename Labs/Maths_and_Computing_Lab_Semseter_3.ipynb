{
  "cells": [
    {
      "cell_type": "markdown",
      "id": "TEMjSoJvV8Aw",
      "metadata": {
        "id": "TEMjSoJvV8Aw"
      },
      "source": [
        "## 9 september 2024"
      ]
    },
    {
      "cell_type": "code",
      "execution_count": null,
      "id": "4129a96d",
      "metadata": {
        "id": "4129a96d",
        "outputId": "20389b7b-b6d7-497f-b608-16ed6e7a00f4"
      },
      "outputs": [
        {
          "name": "stdout",
          "output_type": "stream",
          "text": [
            "Hello world\n"
          ]
        }
      ],
      "source": [
        "print('Hello world')"
      ]
    },
    {
      "cell_type": "code",
      "execution_count": null,
      "id": "cd80d7d6",
      "metadata": {
        "id": "cd80d7d6",
        "outputId": "3042a105-c48f-4c1e-ed0a-c2297b26f97a"
      },
      "outputs": [
        {
          "data": {
            "text/plain": [
              "14"
            ]
          },
          "execution_count": 6,
          "metadata": {},
          "output_type": "execute_result"
        }
      ],
      "source": [
        "book=5\n",
        "car=9\n",
        "car\n",
        "book\n",
        "book+car"
      ]
    },
    {
      "cell_type": "code",
      "execution_count": null,
      "id": "74f96940",
      "metadata": {
        "id": "74f96940",
        "outputId": "874a2e28-41a7-4c58-acf5-b97e0d1435eb"
      },
      "outputs": [
        {
          "name": "stdout",
          "output_type": "stream",
          "text": [
            "9 5 14\n"
          ]
        }
      ],
      "source": [
        "print(car, book, book+car)"
      ]
    },
    {
      "cell_type": "code",
      "execution_count": null,
      "id": "06ebf968",
      "metadata": {
        "id": "06ebf968",
        "outputId": "b450c03b-6d66-4a9d-cea6-c11ebaeef3e7"
      },
      "outputs": [
        {
          "name": "stdout",
          "output_type": "stream",
          "text": [
            "car, book, book+car\n"
          ]
        }
      ],
      "source": [
        "print('car, book, book+car')"
      ]
    },
    {
      "cell_type": "code",
      "execution_count": null,
      "id": "c23b5d75",
      "metadata": {
        "id": "c23b5d75",
        "outputId": "f259a885-5455-400a-adb2-416ff0ccc7b7"
      },
      "outputs": [
        {
          "data": {
            "text/plain": [
              "(45, -4, 1.8, 1)"
            ]
          },
          "execution_count": 9,
          "metadata": {},
          "output_type": "execute_result"
        }
      ],
      "source": [
        "book*car, book-car, car/book, car//book"
      ]
    },
    {
      "cell_type": "code",
      "execution_count": null,
      "id": "6b4617d3",
      "metadata": {
        "id": "6b4617d3",
        "outputId": "715460d1-bc64-4242-a68d-6807e67b1b4d"
      },
      "outputs": [
        {
          "name": "stdout",
          "output_type": "stream",
          "text": [
            "<class 'int'>\n",
            "<class 'str'>\n"
          ]
        }
      ],
      "source": [
        "x = 5\n",
        "y = \"John\"\n",
        "print(type(x))\n",
        "print(type(y))"
      ]
    },
    {
      "cell_type": "code",
      "execution_count": null,
      "id": "69a029d7",
      "metadata": {
        "id": "69a029d7",
        "outputId": "7fe58016-1778-4995-d492-f5d52ef2304e"
      },
      "outputs": [
        {
          "name": "stdout",
          "output_type": "stream",
          "text": [
            "4\n"
          ]
        }
      ],
      "source": [
        "    x=4\n",
        "    print(x)"
      ]
    },
    {
      "cell_type": "code",
      "execution_count": null,
      "id": "b764c599",
      "metadata": {
        "id": "b764c599",
        "outputId": "78093561-2249-4442-aa74-b5bcee1042db"
      },
      "outputs": [
        {
          "data": {
            "text/plain": [
              "4"
            ]
          },
          "execution_count": 12,
          "metadata": {},
          "output_type": "execute_result"
        }
      ],
      "source": [
        "X=45\n",
        "x"
      ]
    },
    {
      "cell_type": "code",
      "execution_count": null,
      "id": "c24f0453",
      "metadata": {
        "id": "c24f0453",
        "outputId": "cdf5cf7d-b3eb-4816-9a03-a4edf8c80ccc"
      },
      "outputs": [
        {
          "data": {
            "text/plain": [
              "str"
            ]
          },
          "execution_count": 13,
          "metadata": {},
          "output_type": "execute_result"
        }
      ],
      "source": [
        "x = \"Hello World\"\n",
        "type(x)"
      ]
    },
    {
      "cell_type": "code",
      "execution_count": null,
      "id": "4cb8b008",
      "metadata": {
        "id": "4cb8b008",
        "outputId": "d8d94703-c950-4c51-ffa5-89bb91b20e04"
      },
      "outputs": [
        {
          "data": {
            "text/plain": [
              "int"
            ]
          },
          "execution_count": 14,
          "metadata": {},
          "output_type": "execute_result"
        }
      ],
      "source": [
        "x = 20\n",
        "type(x)"
      ]
    },
    {
      "cell_type": "code",
      "execution_count": null,
      "id": "02c97db3",
      "metadata": {
        "id": "02c97db3",
        "outputId": "eebd232d-3d64-4754-ea67-0f98c1915b5c"
      },
      "outputs": [
        {
          "data": {
            "text/plain": [
              "float"
            ]
          },
          "execution_count": 15,
          "metadata": {},
          "output_type": "execute_result"
        }
      ],
      "source": [
        "x = 20.5\n",
        "type(x)"
      ]
    },
    {
      "cell_type": "code",
      "execution_count": null,
      "id": "088508f0",
      "metadata": {
        "id": "088508f0",
        "outputId": "2be7244c-f944-4bfb-fd59-0bca68672246"
      },
      "outputs": [
        {
          "data": {
            "text/plain": [
              "complex"
            ]
          },
          "execution_count": 16,
          "metadata": {},
          "output_type": "execute_result"
        }
      ],
      "source": [
        "x = 5j\n",
        "type(x)"
      ]
    },
    {
      "cell_type": "code",
      "execution_count": null,
      "id": "332f07c4",
      "metadata": {
        "id": "332f07c4",
        "outputId": "12240152-5578-44f5-8c6e-9857ffa2e406"
      },
      "outputs": [
        {
          "data": {
            "text/plain": [
              "list"
            ]
          },
          "execution_count": 22,
          "metadata": {},
          "output_type": "execute_result"
        }
      ],
      "source": [
        "x=['apple','banana','pineawpple', 'guava','cherry']\n",
        "type(x)"
      ]
    },
    {
      "cell_type": "code",
      "execution_count": null,
      "id": "71c6167b",
      "metadata": {
        "id": "71c6167b",
        "outputId": "9ab202ef-8f91-4df5-b3f7-4b6d99882917"
      },
      "outputs": [
        {
          "data": {
            "text/plain": [
              "tuple"
            ]
          },
          "execution_count": 19,
          "metadata": {},
          "output_type": "execute_result"
        }
      ],
      "source": [
        "x=('apple',4,'cherry')\n",
        "type(x)"
      ]
    },
    {
      "cell_type": "code",
      "execution_count": null,
      "id": "771661e6",
      "metadata": {
        "id": "771661e6",
        "outputId": "6fa3a583-faef-4058-93f6-aa1694a0c887"
      },
      "outputs": [
        {
          "data": {
            "text/plain": [
              "dict"
            ]
          },
          "execution_count": 21,
          "metadata": {},
          "output_type": "execute_result"
        }
      ],
      "source": [
        "x = {\"name\" : \"John\", \"age\" : 36}\n",
        "type(x)"
      ]
    },
    {
      "cell_type": "code",
      "execution_count": null,
      "id": "0808e7d9",
      "metadata": {
        "id": "0808e7d9",
        "outputId": "25d311ec-ac7c-4d11-f276-5c35a6d17459"
      },
      "outputs": [
        {
          "data": {
            "text/plain": [
              "'apple'"
            ]
          },
          "execution_count": 24,
          "metadata": {},
          "output_type": "execute_result"
        }
      ],
      "source": [
        "x=['apple','banana','pineawpple', 'guava','cherry']\n",
        "x[0]"
      ]
    },
    {
      "cell_type": "code",
      "execution_count": null,
      "id": "c76e933a",
      "metadata": {
        "id": "c76e933a",
        "outputId": "a19d2180-0f8e-49a0-ed04-23b79285499d"
      },
      "outputs": [
        {
          "data": {
            "text/plain": [
              "'cherry'"
            ]
          },
          "execution_count": 26,
          "metadata": {},
          "output_type": "execute_result"
        }
      ],
      "source": [
        "x[-1]"
      ]
    },
    {
      "cell_type": "code",
      "execution_count": null,
      "id": "b94ec028",
      "metadata": {
        "id": "b94ec028",
        "outputId": "bbf82295-b92d-42e4-c905-e3892b1f3887"
      },
      "outputs": [
        {
          "data": {
            "text/plain": [
              "'guava'"
            ]
          },
          "execution_count": 27,
          "metadata": {},
          "output_type": "execute_result"
        }
      ],
      "source": [
        "x[-2]"
      ]
    },
    {
      "cell_type": "code",
      "execution_count": null,
      "id": "32038533",
      "metadata": {
        "id": "32038533",
        "outputId": "2ffa777a-7307-4e80-d166-cacf28fb4e63"
      },
      "outputs": [
        {
          "data": {
            "text/plain": [
              "['apple', 'banana', 'pineawpple', 'guava', 'cherry']"
            ]
          },
          "execution_count": 28,
          "metadata": {},
          "output_type": "execute_result"
        }
      ],
      "source": [
        "x"
      ]
    },
    {
      "cell_type": "code",
      "execution_count": null,
      "id": "6ce17d59",
      "metadata": {
        "id": "6ce17d59",
        "outputId": "0960e799-1e55-4090-cd0f-7763072ed6b9"
      },
      "outputs": [
        {
          "data": {
            "text/plain": [
              "['apple', 'banana', 'mango', 'guava', 'cherry']"
            ]
          },
          "execution_count": 29,
          "metadata": {},
          "output_type": "execute_result"
        }
      ],
      "source": [
        "x[2]='mango'\n",
        "x"
      ]
    },
    {
      "cell_type": "code",
      "execution_count": null,
      "id": "17494025",
      "metadata": {
        "id": "17494025",
        "outputId": "6e86c032-e3f2-405d-affd-070d56ca6414"
      },
      "outputs": [
        {
          "data": {
            "text/plain": [
              "tuple"
            ]
          },
          "execution_count": 30,
          "metadata": {},
          "output_type": "execute_result"
        }
      ],
      "source": [
        "x=('apple','banana','pineawpple', 'guava','cherry')\n",
        "type(x)"
      ]
    },
    {
      "cell_type": "code",
      "execution_count": null,
      "id": "dc10014f",
      "metadata": {
        "id": "dc10014f",
        "outputId": "e809acf9-9c6d-4d7e-9885-c2326e4b3352"
      },
      "outputs": [
        {
          "data": {
            "text/plain": [
              "'guava'"
            ]
          },
          "execution_count": 31,
          "metadata": {},
          "output_type": "execute_result"
        }
      ],
      "source": [
        "x[3]"
      ]
    },
    {
      "cell_type": "code",
      "execution_count": null,
      "id": "4f54552e",
      "metadata": {
        "id": "4f54552e",
        "outputId": "25f58dab-8e75-4605-953d-bd2dcc8c6e8b"
      },
      "outputs": [
        {
          "ename": "TypeError",
          "evalue": "'tuple' object does not support item assignment",
          "output_type": "error",
          "traceback": [
            "\u001b[1;31m---------------------------------------------------------------------------\u001b[0m",
            "\u001b[1;31mTypeError\u001b[0m                                 Traceback (most recent call last)",
            "Input \u001b[1;32mIn [32]\u001b[0m, in \u001b[0;36m<cell line: 1>\u001b[1;34m()\u001b[0m\n\u001b[1;32m----> 1\u001b[0m x[\u001b[38;5;241m3\u001b[39m]\u001b[38;5;241m=\u001b[39m\u001b[38;5;124m'\u001b[39m\u001b[38;5;124mMango\u001b[39m\u001b[38;5;124m'\u001b[39m\n",
            "\u001b[1;31mTypeError\u001b[0m: 'tuple' object does not support item assignment"
          ]
        }
      ],
      "source": [
        "x[3]='Mango'"
      ]
    },
    {
      "cell_type": "code",
      "execution_count": null,
      "id": "ec544217",
      "metadata": {
        "id": "ec544217",
        "outputId": "455d98a0-ef3c-4f90-db58-8c7554cecb1f"
      },
      "outputs": [
        {
          "data": {
            "text/plain": [
              "['apple',\n",
              " 'banana',\n",
              " 'pineawpple',\n",
              " 'guava',\n",
              " 'cherry',\n",
              " 'mango',\n",
              " 'car',\n",
              " 'bike',\n",
              " 'aeroplane']"
            ]
          },
          "execution_count": 33,
          "metadata": {},
          "output_type": "execute_result"
        }
      ],
      "source": [
        "x=['apple','banana','pineawpple', 'guava','cherry','mango','car','bike','aeroplane']\n",
        "x\n"
      ]
    },
    {
      "cell_type": "code",
      "execution_count": null,
      "id": "807c28fe",
      "metadata": {
        "id": "807c28fe",
        "outputId": "2c45e04c-7918-4808-9946-794a4db284f1"
      },
      "outputs": [
        {
          "data": {
            "text/plain": [
              "['pineawpple', 'guava', 'cherry', 'mango']"
            ]
          },
          "execution_count": 34,
          "metadata": {},
          "output_type": "execute_result"
        }
      ],
      "source": [
        "x[2:6]"
      ]
    },
    {
      "cell_type": "code",
      "execution_count": null,
      "id": "83082fac",
      "metadata": {
        "id": "83082fac",
        "outputId": "05cc2a0c-95e0-441e-d8fa-e32d0e19a931"
      },
      "outputs": [
        {
          "data": {
            "text/plain": [
              "['pineawpple', 'guava', 'cherry', 'mango', 'car', 'bike', 'aeroplane']"
            ]
          },
          "execution_count": 35,
          "metadata": {},
          "output_type": "execute_result"
        }
      ],
      "source": [
        "x[2:]"
      ]
    },
    {
      "cell_type": "code",
      "execution_count": null,
      "id": "64dd1d84",
      "metadata": {
        "id": "64dd1d84",
        "outputId": "36dfd3f9-a80d-4d29-ea3e-a62afd0a6209"
      },
      "outputs": [
        {
          "data": {
            "text/plain": [
              "['apple', 'banana', 'pineawpple', 'guava', 'cherry', 'mango']"
            ]
          },
          "execution_count": 36,
          "metadata": {},
          "output_type": "execute_result"
        }
      ],
      "source": [
        "x[:6]"
      ]
    },
    {
      "cell_type": "code",
      "execution_count": null,
      "id": "96d612f2",
      "metadata": {
        "id": "96d612f2",
        "outputId": "f3d06c4f-eb78-47ae-d2c5-35b83e5bca83"
      },
      "outputs": [
        {
          "data": {
            "text/plain": [
              "['pineawpple', 'guava', 'cherry', 'mango']"
            ]
          },
          "execution_count": 37,
          "metadata": {},
          "output_type": "execute_result"
        }
      ],
      "source": [
        "x[2:-3]"
      ]
    },
    {
      "cell_type": "code",
      "execution_count": null,
      "id": "c4a12866",
      "metadata": {
        "id": "c4a12866",
        "outputId": "b4311271-1ee5-4ff2-e6ce-935ce5db3c34"
      },
      "outputs": [
        {
          "data": {
            "text/plain": [
              "[]"
            ]
          },
          "execution_count": 38,
          "metadata": {},
          "output_type": "execute_result"
        }
      ],
      "source": [
        "x[-2:3]"
      ]
    },
    {
      "cell_type": "code",
      "execution_count": null,
      "id": "220a2cb7",
      "metadata": {
        "id": "220a2cb7",
        "outputId": "6b376b13-f682-4dfb-d801-679773c018e2"
      },
      "outputs": [
        {
          "data": {
            "text/plain": [
              "'Hello World'"
            ]
          },
          "execution_count": 40,
          "metadata": {},
          "output_type": "execute_result"
        }
      ],
      "source": [
        "a = \"Hello\"\n",
        "b = \"World\"\n",
        "c = a +\" \"+ b\n",
        "c"
      ]
    },
    {
      "cell_type": "code",
      "execution_count": null,
      "id": "d834b538",
      "metadata": {
        "id": "d834b538"
      },
      "outputs": [],
      "source": [
        "age = '36'\n",
        "txt = \"My name is John, I am \" + age"
      ]
    },
    {
      "cell_type": "code",
      "execution_count": null,
      "id": "6c681df7",
      "metadata": {
        "id": "6c681df7",
        "outputId": "b2f129c1-a245-49da-93f3-165f611627b1"
      },
      "outputs": [
        {
          "data": {
            "text/plain": [
              "'My name is John, I am 36'"
            ]
          },
          "execution_count": 43,
          "metadata": {},
          "output_type": "execute_result"
        }
      ],
      "source": [
        "txt"
      ]
    },
    {
      "cell_type": "code",
      "execution_count": null,
      "id": "1f5a7922",
      "metadata": {
        "id": "1f5a7922",
        "outputId": "2a281b50-604c-473b-e5c7-a00a0840c948"
      },
      "outputs": [
        {
          "name": "stdout",
          "output_type": "stream",
          "text": [
            "Student is failed\n"
          ]
        }
      ],
      "source": [
        "marks = 35\n",
        "if marks >45:\n",
        "    print(\"Student is passed\")\n",
        "else:\n",
        "    print(\"Student is failed\")"
      ]
    },
    {
      "cell_type": "code",
      "execution_count": null,
      "id": "e23c3c02",
      "metadata": {
        "id": "e23c3c02",
        "outputId": "812b31fc-5d14-415b-e9d2-3a2dc8b3fb30"
      },
      "outputs": [
        {
          "name": "stdout",
          "output_type": "stream",
          "text": [
            "Grade is A\n"
          ]
        }
      ],
      "source": [
        "marks = 85\n",
        "if marks >90:\n",
        "    print(\"Grade is A+\")\n",
        "elif(marks>80 and marks < 90):\n",
        "    print(\"Grade is A\")\n",
        "elif(marks>70 and marks < 80):\n",
        "    print(\"Grade is B+\")\n",
        "else:\n",
        "    print(\"Failed\")"
      ]
    },
    {
      "cell_type": "code",
      "execution_count": null,
      "id": "a74fae69",
      "metadata": {
        "id": "a74fae69",
        "outputId": "ab236305-4044-4a8c-c95e-f6b55b534484"
      },
      "outputs": [
        {
          "name": "stdout",
          "output_type": "stream",
          "text": [
            "Number is even\n"
          ]
        }
      ],
      "source": [
        "marks = 36\n",
        "if marks %2==0:\n",
        "    print(\"Number is even\")\n",
        "else:\n",
        "    print(\"Number is odd\")"
      ]
    },
    {
      "cell_type": "code",
      "execution_count": null,
      "id": "9085ba87",
      "metadata": {
        "id": "9085ba87",
        "outputId": "76e78bf6-3cc2-4cff-eebb-da701a2cd6a3"
      },
      "outputs": [
        {
          "name": "stdout",
          "output_type": "stream",
          "text": [
            "1 1\n",
            "2 2\n",
            "3 6\n"
          ]
        }
      ],
      "source": [
        "sum=1\n",
        "for i in range(1,4):\n",
        "    sum=sum*i\n",
        "    print(i,sum)"
      ]
    },
    {
      "cell_type": "code",
      "execution_count": null,
      "id": "iktA1HLUC72M",
      "metadata": {
        "colab": {
          "base_uri": "https://localhost:8080/"
        },
        "id": "iktA1HLUC72M",
        "outputId": "ad784b31-b6a7-4544-d8bb-881d037fb182"
      },
      "outputs": [
        {
          "name": "stdout",
          "output_type": "stream",
          "text": [
            "1 1\n",
            "2 2\n",
            "6 3\n",
            "24 4\n"
          ]
        }
      ],
      "source": [
        "sum=1\n",
        "i=1\n",
        "while i<=4:\n",
        "  sum=sum*i\n",
        "  print(sum,i)\n",
        "  i=i+1\n",
        "\n"
      ]
    },
    {
      "cell_type": "code",
      "execution_count": null,
      "id": "6c7bd5fa",
      "metadata": {
        "id": "6c7bd5fa",
        "outputId": "18e02b88-b65a-49e6-fda7-bfc1133dcf82"
      },
      "outputs": [
        {
          "data": {
            "text/plain": [
              "range(0, 4)"
            ]
          },
          "execution_count": 51,
          "metadata": {},
          "output_type": "execute_result"
        }
      ],
      "source": [
        "range(4)"
      ]
    },
    {
      "cell_type": "code",
      "execution_count": null,
      "id": "8e9961e9",
      "metadata": {
        "id": "8e9961e9",
        "outputId": "0b064517-4798-4ecc-a523-dd6284817739"
      },
      "outputs": [
        {
          "name": "stdout",
          "output_type": "stream",
          "text": [
            "\n",
            "*\n",
            "**\n",
            "***\n",
            "****\n",
            "*****\n",
            "******\n",
            "*******\n",
            "********\n",
            "*********\n"
          ]
        }
      ],
      "source": [
        "for i in range(10):\n",
        "        print('*'*i)\n"
      ]
    },
    {
      "cell_type": "code",
      "execution_count": null,
      "id": "9ee7fdc7",
      "metadata": {
        "id": "9ee7fdc7",
        "outputId": "d30ba24a-9b7b-45dc-aaf4-505077dc75ab"
      },
      "outputs": [
        {
          "name": "stdout",
          "output_type": "stream",
          "text": [
            "AAAA\n"
          ]
        }
      ],
      "source": [
        "print(\"A\"*4)"
      ]
    },
    {
      "cell_type": "code",
      "execution_count": null,
      "id": "1c4ae44e",
      "metadata": {
        "id": "1c4ae44e",
        "outputId": "e0301bb1-eece-4a44-d055-99be890b5aec"
      },
      "outputs": [
        {
          "name": "stdout",
          "output_type": "stream",
          "text": [
            "Help on class range in module builtins:\n",
            "\n",
            "class range(object)\n",
            " |  range(stop) -> range object\n",
            " |  range(start, stop[, step]) -> range object\n",
            " |  \n",
            " |  Return an object that produces a sequence of integers from start (inclusive)\n",
            " |  to stop (exclusive) by step.  range(i, j) produces i, i+1, i+2, ..., j-1.\n",
            " |  start defaults to 0, and stop is omitted!  range(4) produces 0, 1, 2, 3.\n",
            " |  These are exactly the valid indices for a list of 4 elements.\n",
            " |  When step is given, it specifies the increment (or decrement).\n",
            " |  \n",
            " |  Methods defined here:\n",
            " |  \n",
            " |  __bool__(self, /)\n",
            " |      True if self else False\n",
            " |  \n",
            " |  __contains__(self, key, /)\n",
            " |      Return key in self.\n",
            " |  \n",
            " |  __eq__(self, value, /)\n",
            " |      Return self==value.\n",
            " |  \n",
            " |  __ge__(self, value, /)\n",
            " |      Return self>=value.\n",
            " |  \n",
            " |  __getattribute__(self, name, /)\n",
            " |      Return getattr(self, name).\n",
            " |  \n",
            " |  __getitem__(self, key, /)\n",
            " |      Return self[key].\n",
            " |  \n",
            " |  __gt__(self, value, /)\n",
            " |      Return self>value.\n",
            " |  \n",
            " |  __hash__(self, /)\n",
            " |      Return hash(self).\n",
            " |  \n",
            " |  __iter__(self, /)\n",
            " |      Implement iter(self).\n",
            " |  \n",
            " |  __le__(self, value, /)\n",
            " |      Return self<=value.\n",
            " |  \n",
            " |  __len__(self, /)\n",
            " |      Return len(self).\n",
            " |  \n",
            " |  __lt__(self, value, /)\n",
            " |      Return self<value.\n",
            " |  \n",
            " |  __ne__(self, value, /)\n",
            " |      Return self!=value.\n",
            " |  \n",
            " |  __reduce__(...)\n",
            " |      Helper for pickle.\n",
            " |  \n",
            " |  __repr__(self, /)\n",
            " |      Return repr(self).\n",
            " |  \n",
            " |  __reversed__(...)\n",
            " |      Return a reverse iterator.\n",
            " |  \n",
            " |  count(...)\n",
            " |      rangeobject.count(value) -> integer -- return number of occurrences of value\n",
            " |  \n",
            " |  index(...)\n",
            " |      rangeobject.index(value) -> integer -- return index of value.\n",
            " |      Raise ValueError if the value is not present.\n",
            " |  \n",
            " |  ----------------------------------------------------------------------\n",
            " |  Static methods defined here:\n",
            " |  \n",
            " |  __new__(*args, **kwargs) from builtins.type\n",
            " |      Create and return a new object.  See help(type) for accurate signature.\n",
            " |  \n",
            " |  ----------------------------------------------------------------------\n",
            " |  Data descriptors defined here:\n",
            " |  \n",
            " |  start\n",
            " |  \n",
            " |  step\n",
            " |  \n",
            " |  stop\n",
            "\n"
          ]
        }
      ],
      "source": [
        "help(range)"
      ]
    },
    {
      "cell_type": "code",
      "execution_count": null,
      "id": "1a027862",
      "metadata": {
        "id": "1a027862"
      },
      "outputs": [],
      "source": [
        "a=[i for i in range(3,14,2)]"
      ]
    },
    {
      "cell_type": "code",
      "execution_count": null,
      "id": "b195c1ad",
      "metadata": {
        "id": "b195c1ad",
        "outputId": "31ab7424-0682-4833-ffc8-c18298c7bdf6"
      },
      "outputs": [
        {
          "data": {
            "text/plain": [
              "[3, 5, 7, 9, 11, 13]"
            ]
          },
          "execution_count": 73,
          "metadata": {},
          "output_type": "execute_result"
        }
      ],
      "source": [
        "a"
      ]
    },
    {
      "cell_type": "code",
      "execution_count": null,
      "id": "7939f310",
      "metadata": {
        "id": "7939f310"
      },
      "outputs": [],
      "source": [
        "def gradeing(marks):\n",
        "    if marks >90:\n",
        "        return 'A+'\n",
        "    elif(marks>80 and marks < 90):\n",
        "        return 'A'\n",
        "    elif(marks>70 and marks < 80):\n",
        "        return 'B+'\n",
        "    else:\n",
        "        return 'Fail'\n"
      ]
    },
    {
      "cell_type": "code",
      "execution_count": null,
      "id": "011112fc",
      "metadata": {
        "id": "011112fc",
        "outputId": "5aad9651-a998-4905-e1fb-45ee779d1a3a"
      },
      "outputs": [
        {
          "data": {
            "text/plain": [
              "'B+'"
            ]
          },
          "execution_count": 75,
          "metadata": {},
          "output_type": "execute_result"
        }
      ],
      "source": [
        "grad=gradeing(78)\n",
        "grad"
      ]
    },
    {
      "cell_type": "code",
      "execution_count": null,
      "id": "o31YOAkzzLzG",
      "metadata": {
        "id": "o31YOAkzzLzG"
      },
      "outputs": [],
      "source": [
        "import numpy as np"
      ]
    },
    {
      "cell_type": "code",
      "execution_count": null,
      "id": "GGR0Mq8hzRFN",
      "metadata": {
        "id": "GGR0Mq8hzRFN"
      },
      "outputs": [],
      "source": [
        "a=0\n",
        "b=10\n",
        "# Number of trapezoids\n",
        "n=4"
      ]
    },
    {
      "cell_type": "code",
      "execution_count": null,
      "id": "f4b0d9cc",
      "metadata": {
        "colab": {
          "base_uri": "https://localhost:8080/"
        },
        "id": "f4b0d9cc",
        "outputId": "b2244736-cae7-4f14-cf72-d03c4ad35935"
      },
      "outputs": [
        {
          "data": {
            "text/plain": [
              "array([ 0. ,  2.5,  5. ,  7.5, 10. ])"
            ]
          },
          "execution_count": 14,
          "metadata": {},
          "output_type": "execute_result"
        }
      ],
      "source": [
        "x=np.linspace(a,b,n+1)\n",
        "x"
      ]
    },
    {
      "cell_type": "code",
      "execution_count": null,
      "id": "KMvrdEzgu7sx",
      "metadata": {
        "id": "KMvrdEzgu7sx"
      },
      "outputs": [],
      "source": []
    },
    {
      "cell_type": "markdown",
      "id": "x4KnGWkSu9Wp",
      "metadata": {
        "id": "x4KnGWkSu9Wp"
      },
      "source": [
        "## 10 Sept 2024"
      ]
    },
    {
      "cell_type": "code",
      "execution_count": null,
      "id": "8563219f",
      "metadata": {},
      "outputs": [],
      "source": []
    },
    {
      "cell_type": "code",
      "execution_count": null,
      "id": "donVdCY1zIBN",
      "metadata": {
        "colab": {
          "base_uri": "https://localhost:8080/",
          "height": 211
        },
        "id": "donVdCY1zIBN",
        "outputId": "941574a9-38d8-474a-bc8e-a4228bfbfadb"
      },
      "outputs": [
        {
          "ename": "NameError",
          "evalue": "name 'np' is not defined",
          "output_type": "error",
          "traceback": [
            "\u001b[0;31m---------------------------------------------------------------------------\u001b[0m",
            "\u001b[0;31mNameError\u001b[0m                                 Traceback (most recent call last)",
            "\u001b[0;32m<ipython-input-1-47565b7bf8ac>\u001b[0m in \u001b[0;36m<cell line: 5>\u001b[0;34m()\u001b[0m\n\u001b[1;32m      3\u001b[0m \u001b[0;31m# Left and Right limits\u001b[0m\u001b[0;34m\u001b[0m\u001b[0;34m\u001b[0m\u001b[0m\n\u001b[1;32m      4\u001b[0m \u001b[0ma\u001b[0m\u001b[0;34m=\u001b[0m\u001b[0;36m0\u001b[0m\u001b[0;34m\u001b[0m\u001b[0;34m\u001b[0m\u001b[0m\n\u001b[0;32m----> 5\u001b[0;31m \u001b[0mb\u001b[0m\u001b[0;34m=\u001b[0m\u001b[0mnp\u001b[0m\u001b[0;34m.\u001b[0m\u001b[0mpi\u001b[0m\u001b[0;34m/\u001b[0m\u001b[0;36m2\u001b[0m\u001b[0;34m\u001b[0m\u001b[0;34m\u001b[0m\u001b[0m\n\u001b[0m\u001b[1;32m      6\u001b[0m \u001b[0;31m# Number of trapezoids\u001b[0m\u001b[0;34m\u001b[0m\u001b[0;34m\u001b[0m\u001b[0m\n\u001b[1;32m      7\u001b[0m \u001b[0mn\u001b[0m\u001b[0;34m=\u001b[0m\u001b[0;36m6\u001b[0m\u001b[0;34m\u001b[0m\u001b[0;34m\u001b[0m\u001b[0m\n",
            "\u001b[0;31mNameError\u001b[0m: name 'np' is not defined"
          ]
        }
      ],
      "source": [
        "import numpy as np\n",
        "\n",
        "def f(x):\n",
        "   return x*np.sin(x)\n",
        "# Left and Right limits\n",
        "a=0\n",
        "b=np.pi/2\n",
        "# Number of trapezoids\n",
        "n=6\n",
        "# Width of trapezoid\n",
        "h=(b-a)/n\n",
        "# array of x\n",
        "# For n trapezoids (no. of nodes=n+1)\n",
        "x=np.linspace(a,b,n+1)\n",
        "# First term of I\n",
        "I=(f(a)+f(b))\n",
        "# Summing over remaining n-2 trapezoids\n",
        "for j in range(1,n):\n",
        "   if j%3==0:\n",
        "      I=I+2*f(x[j])\n",
        "   else:\n",
        "      I=I+3*f(x[j])\n",
        "I=(h/8)*I*3\n",
        "print(f'I = {round(I,6)}')"
      ]
    },
    {
      "cell_type": "code",
      "execution_count": null,
      "id": "cfo8NkEyz1Zd",
      "metadata": {
        "id": "cfo8NkEyz1Zd"
      },
      "outputs": [],
      "source": [
        "import numpy  as np"
      ]
    },
    {
      "cell_type": "code",
      "execution_count": null,
      "id": "a-FRJfIv-iaF",
      "metadata": {
        "colab": {
          "base_uri": "https://localhost:8080/"
        },
        "id": "a-FRJfIv-iaF",
        "outputId": "2b2eff63-8ce3-40d1-8b5b-795d18eabdf3"
      },
      "outputs": [
        {
          "data": {
            "text/plain": [
              "4"
            ]
          },
          "execution_count": 21,
          "metadata": {},
          "output_type": "execute_result"
        }
      ],
      "source": [
        "np.abs(-4)"
      ]
    },
    {
      "cell_type": "code",
      "execution_count": null,
      "id": "1cycxp9S-8Y3",
      "metadata": {
        "id": "1cycxp9S-8Y3"
      },
      "outputs": [],
      "source": [
        "def func(x):\n",
        "  return x*x*x - x*x +2"
      ]
    },
    {
      "cell_type": "code",
      "execution_count": null,
      "id": "xDk7yJf-Ay-3",
      "metadata": {
        "colab": {
          "base_uri": "https://localhost:8080/"
        },
        "id": "xDk7yJf-Ay-3",
        "outputId": "5b74f19e-c61d-441d-93ac-b5ae1ea6a561"
      },
      "outputs": [
        {
          "data": {
            "text/plain": [
              "6"
            ]
          },
          "execution_count": 23,
          "metadata": {},
          "output_type": "execute_result"
        }
      ],
      "source": [
        "func(2)"
      ]
    },
    {
      "cell_type": "code",
      "execution_count": null,
      "id": "KudTnG0fA_CT",
      "metadata": {
        "id": "KudTnG0fA_CT"
      },
      "outputs": [],
      "source": [
        "def func(x):\n",
        "  return x*x*x - x*x +2\n",
        "def derivFunc(x):\n",
        "  return 3*x*x-2*x"
      ]
    },
    {
      "cell_type": "code",
      "execution_count": null,
      "id": "47NgBweGBSjF",
      "metadata": {
        "colab": {
          "base_uri": "https://localhost:8080/"
        },
        "id": "47NgBweGBSjF",
        "outputId": "d2ac0336-6c94-45d7-d72c-5a4518b680a0"
      },
      "outputs": [
        {
          "data": {
            "text/plain": [
              "8"
            ]
          },
          "execution_count": 27,
          "metadata": {},
          "output_type": "execute_result"
        }
      ],
      "source": [
        "derivFunc(2)"
      ]
    },
    {
      "cell_type": "code",
      "execution_count": null,
      "id": "eNxd6kkZCcj1",
      "metadata": {
        "colab": {
          "base_uri": "https://localhost:8080/"
        },
        "id": "eNxd6kkZCcj1",
        "outputId": "b067971d-d9c6-4f09-df27-5177badd0155"
      },
      "outputs": [
        {
          "name": "stdout",
          "output_type": "stream",
          "text": [
            "1\n",
            "2\n",
            "3\n",
            "4\n",
            "5\n"
          ]
        }
      ],
      "source": [
        "i = 1\n",
        "while i < 6:\n",
        "  print(i)\n",
        "  i += 1"
      ]
    },
    {
      "cell_type": "code",
      "execution_count": null,
      "id": "NLujeMenE04l",
      "metadata": {
        "colab": {
          "base_uri": "https://localhost:8080/"
        },
        "id": "NLujeMenE04l",
        "outputId": "ea6757e1-8803-41d4-8d2b-6d7606c0f7df"
      },
      "outputs": [
        {
          "data": {
            "text/plain": [
              "1.5692307692307692"
            ]
          },
          "execution_count": 31,
          "metadata": {},
          "output_type": "execute_result"
        }
      ],
      "source": [
        "x=5\n",
        "h=func(x)/derivFunc(x)\n",
        "h"
      ]
    },
    {
      "cell_type": "code",
      "execution_count": null,
      "id": "Wu6qW7VBBgPJ",
      "metadata": {
        "id": "Wu6qW7VBBgPJ"
      },
      "outputs": [],
      "source": [
        "def NetwonRapson(x):\n",
        "  h=func(x)/derivFunc(x)\n",
        "  while( np.abs(h)>=0.00001):\n",
        "    h=func(x)/derivFunc(x)\n",
        "    x=x-h\n",
        "    print(\"value of x in next itertation is \",x)\n",
        "  print(\"The value of root is : \",x)"
      ]
    },
    {
      "cell_type": "code",
      "execution_count": null,
      "id": "SueeciFLFTRw",
      "metadata": {
        "colab": {
          "base_uri": "https://localhost:8080/"
        },
        "id": "SueeciFLFTRw",
        "outputId": "d34b9814-fcd8-488d-e7a6-1fe843a6fa41"
      },
      "outputs": [
        {
          "name": "stdout",
          "output_type": "stream",
          "text": [
            "value of x in next itertation is  -13.227419354838709\n",
            "value of x in next itertation is  -8.716127265539962\n",
            "value of x in next itertation is  -5.715686860871689\n",
            "value of x in next itertation is  -3.729227958342401\n",
            "value of x in next itertation is  -2.43255863785565\n",
            "value of x in next itertation is  -1.622923986083026\n",
            "value of x in next itertation is  -1.1826032618851028\n",
            "value of x in next itertation is  -1.0221850914414865\n",
            "value of x in next itertation is  -1.0003843536579045\n",
            "value of x in next itertation is  -1.0000001181322415\n",
            "value of x in next itertation is  -1.000000000000011\n",
            "The value of root is :  -1.000000000000011\n"
          ]
        }
      ],
      "source": [
        "x0=-20\n",
        "NetwonRapson(x0)"
      ]
    },
    {
      "cell_type": "code",
      "execution_count": null,
      "id": "xvu2XHlkFyww",
      "metadata": {
        "colab": {
          "base_uri": "https://localhost:8080/"
        },
        "id": "xvu2XHlkFyww",
        "outputId": "9c521385-8f74-4833-a982-6e2d9183af68"
      },
      "outputs": [
        {
          "data": {
            "text/plain": [
              "array([0.        , 0.62831853, 1.25663706, 1.88495559, 2.51327412,\n",
              "       3.14159265])"
            ]
          },
          "execution_count": 45,
          "metadata": {},
          "output_type": "execute_result"
        }
      ],
      "source": [
        "np.linspace(0,np.pi,6)"
      ]
    },
    {
      "cell_type": "code",
      "execution_count": null,
      "id": "tbQCdtDfJnyA",
      "metadata": {
        "id": "tbQCdtDfJnyA"
      },
      "outputs": [],
      "source": [
        "def f(x):\n",
        "  return x*np.sin(x)"
      ]
    },
    {
      "cell_type": "code",
      "execution_count": null,
      "id": "zlRMJsaKKSd4",
      "metadata": {
        "id": "zlRMJsaKKSd4"
      },
      "outputs": [],
      "source": [
        "a=0\n",
        "b=np.pi/2\n",
        "n=6\n",
        "h=(b-a)/n"
      ]
    },
    {
      "cell_type": "code",
      "execution_count": null,
      "id": "3si3D17mKpA2",
      "metadata": {
        "colab": {
          "base_uri": "https://localhost:8080/"
        },
        "id": "3si3D17mKpA2",
        "outputId": "9e4fab1b-4585-4478-e3ac-49956f877cd3"
      },
      "outputs": [
        {
          "data": {
            "text/plain": [
              "array([0.        , 0.26179939, 0.52359878, 0.78539816, 1.04719755,\n",
              "       1.30899694, 1.57079633])"
            ]
          },
          "execution_count": 50,
          "metadata": {},
          "output_type": "execute_result"
        }
      ],
      "source": [
        "x=np.linspace(a,b,n+1)\n",
        "x"
      ]
    },
    {
      "cell_type": "code",
      "execution_count": null,
      "id": "dkyDYlgXKvOs",
      "metadata": {
        "colab": {
          "base_uri": "https://localhost:8080/"
        },
        "id": "dkyDYlgXKvOs",
        "outputId": "0b5d0833-d003-47c7-bc16-dc7573049895"
      },
      "outputs": [
        {
          "data": {
            "text/plain": [
              "1.5707963267948966"
            ]
          },
          "execution_count": 51,
          "metadata": {},
          "output_type": "execute_result"
        }
      ],
      "source": [
        "I=f(a)+f(b)\n",
        "I"
      ]
    },
    {
      "cell_type": "code",
      "execution_count": null,
      "id": "deImB_G8LuR4",
      "metadata": {
        "colab": {
          "base_uri": "https://localhost:8080/"
        },
        "id": "deImB_G8LuR4",
        "outputId": "2af7cafb-b2fe-46ad-9cc9-a2edbd7672a2"
      },
      "outputs": [
        {
          "name": "stdout",
          "output_type": "stream",
          "text": [
            "[0.         0.26179939 0.52359878 0.78539816 1.04719755 1.30899694\n",
            " 1.57079633]\n",
            "1.308996938995747\n",
            "1.264393949909328\n"
          ]
        }
      ],
      "source": [
        "print(x)\n",
        "print(x[5])\n",
        "print(f(x[5]))"
      ]
    },
    {
      "cell_type": "code",
      "execution_count": null,
      "id": "UFKDln4ePKUV",
      "metadata": {
        "id": "UFKDln4ePKUV"
      },
      "outputs": [],
      "source": [
        "a=0\n",
        "b=np.pi/2\n",
        "n=6\n",
        "h=(b-a)/n"
      ]
    },
    {
      "cell_type": "code",
      "execution_count": null,
      "id": "BWiErynTK-Ll",
      "metadata": {
        "colab": {
          "base_uri": "https://localhost:8080/"
        },
        "id": "BWiErynTK-Ll",
        "outputId": "b4b45c16-df70-4656-9dd2-200d50727b43"
      },
      "outputs": [
        {
          "name": "stdout",
          "output_type": "stream",
          "text": [
            "Area is  0.9999206314107351\n"
          ]
        }
      ],
      "source": [
        "#Code of Simpson 1/3 rule\n",
        "I=f(a)+f(b)\n",
        "for i in range(1,n):\n",
        "  if i%2==0:\n",
        "    I=I+2*f(x[i])\n",
        "  else:\n",
        "    I=I+4*f(x[i])\n",
        "I=(h/3)*I\n",
        "print(\"Area is \",I)"
      ]
    },
    {
      "cell_type": "code",
      "execution_count": null,
      "id": "UjxUWlThMq3M",
      "metadata": {
        "colab": {
          "base_uri": "https://localhost:8080/"
        },
        "id": "UjxUWlThMq3M",
        "outputId": "0b1e3225-2d04-4307-d30a-80ca687d3a0a"
      },
      "outputs": [
        {
          "name": "stdout",
          "output_type": "stream",
          "text": [
            "Area is  0.9998189427117349\n"
          ]
        }
      ],
      "source": [
        "#Code of Simpson 3/8 rule\n",
        "I=f(a)+f(b)\n",
        "for i in range(1,n):\n",
        "  if i%3==0:\n",
        "    I=I+2*f(x[i])\n",
        "  else:\n",
        "    I=I+3*f(x[i])\n",
        "I=(3*h/8)*I\n",
        "print(\"Area is \",I)"
      ]
    },
    {
      "cell_type": "code",
      "execution_count": null,
      "id": "ATBOqPcdOsaa",
      "metadata": {
        "id": "ATBOqPcdOsaa"
      },
      "outputs": [],
      "source": [
        "import numpy as np"
      ]
    },
    {
      "cell_type": "code",
      "execution_count": null,
      "id": "6BZEdWCsQlrS",
      "metadata": {
        "colab": {
          "base_uri": "https://localhost:8080/"
        },
        "id": "6BZEdWCsQlrS",
        "outputId": "862e3307-bf96-427d-97b5-a35490e529a6"
      },
      "outputs": [
        {
          "data": {
            "text/plain": [
              "array([1, 2, 3, 4, 5, 6])"
            ]
          },
          "execution_count": 76,
          "metadata": {},
          "output_type": "execute_result"
        }
      ],
      "source": [
        "arr1=np.array([1,2,3,4,5,6])\n",
        "arr1"
      ]
    },
    {
      "cell_type": "code",
      "execution_count": null,
      "id": "Z_nFOoVcQqGe",
      "metadata": {
        "colab": {
          "base_uri": "https://localhost:8080/"
        },
        "id": "Z_nFOoVcQqGe",
        "outputId": "fce2922e-4ed9-40e8-c2d9-40b0a9d3bfa8"
      },
      "outputs": [
        {
          "data": {
            "text/plain": [
              "numpy.ndarray"
            ]
          },
          "execution_count": 70,
          "metadata": {},
          "output_type": "execute_result"
        }
      ],
      "source": [
        "type(arr)"
      ]
    },
    {
      "cell_type": "code",
      "execution_count": null,
      "id": "U3SxXGigQrWs",
      "metadata": {
        "colab": {
          "base_uri": "https://localhost:8080/"
        },
        "id": "U3SxXGigQrWs",
        "outputId": "1a8204c5-1090-45cd-ebf5-cb9225ff154c"
      },
      "outputs": [
        {
          "data": {
            "text/plain": [
              "array([[1, 2, 3],\n",
              "       [4, 5, 6]])"
            ]
          },
          "execution_count": 77,
          "metadata": {},
          "output_type": "execute_result"
        }
      ],
      "source": [
        "arr2=np.array([[1,2,3],[4,5,6]])\n",
        "arr2\n"
      ]
    },
    {
      "cell_type": "code",
      "execution_count": null,
      "id": "FytUucVRRHB-",
      "metadata": {
        "colab": {
          "base_uri": "https://localhost:8080/"
        },
        "id": "FytUucVRRHB-",
        "outputId": "9fecd6f1-2e8c-44b7-872e-823a0d8ff030"
      },
      "outputs": [
        {
          "data": {
            "text/plain": [
              "3"
            ]
          },
          "execution_count": 78,
          "metadata": {},
          "output_type": "execute_result"
        }
      ],
      "source": [
        "arr1[2]"
      ]
    },
    {
      "cell_type": "code",
      "execution_count": null,
      "id": "CH7tpLk5RcJi",
      "metadata": {
        "colab": {
          "base_uri": "https://localhost:8080/"
        },
        "id": "CH7tpLk5RcJi",
        "outputId": "59deba48-ccf7-4ca3-8a34-94d84cb53692"
      },
      "outputs": [
        {
          "data": {
            "text/plain": [
              "5"
            ]
          },
          "execution_count": 80,
          "metadata": {},
          "output_type": "execute_result"
        }
      ],
      "source": [
        "arr2[1][1]"
      ]
    },
    {
      "cell_type": "code",
      "execution_count": null,
      "id": "md2P3saHRe4T",
      "metadata": {
        "id": "md2P3saHRe4T"
      },
      "outputs": [],
      "source": [
        "arr=np.arange(24)"
      ]
    },
    {
      "cell_type": "code",
      "execution_count": null,
      "id": "RvY2ObSFR1pp",
      "metadata": {
        "colab": {
          "base_uri": "https://localhost:8080/"
        },
        "id": "RvY2ObSFR1pp",
        "outputId": "c0c31368-404b-4ac2-c3dd-5dc341adcbf3"
      },
      "outputs": [
        {
          "data": {
            "text/plain": [
              "array([ 0,  1,  2,  3,  4,  5,  6,  7,  8,  9, 10, 11, 12, 13, 14, 15, 16,\n",
              "       17, 18, 19, 20, 21, 22, 23])"
            ]
          },
          "execution_count": 95,
          "metadata": {},
          "output_type": "execute_result"
        }
      ],
      "source": [
        "arr"
      ]
    },
    {
      "cell_type": "code",
      "execution_count": null,
      "id": "Vmdw9l5VR3y1",
      "metadata": {
        "id": "Vmdw9l5VR3y1"
      },
      "outputs": [],
      "source": [
        "arr=arr.reshape((6,4))"
      ]
    },
    {
      "cell_type": "code",
      "execution_count": null,
      "id": "ZLkq0ue-R9gC",
      "metadata": {
        "colab": {
          "base_uri": "https://localhost:8080/"
        },
        "id": "ZLkq0ue-R9gC",
        "outputId": "793e9225-5dc1-4b2c-89d4-110be4231b78"
      },
      "outputs": [
        {
          "data": {
            "text/plain": [
              "array([[ 0,  1,  2,  3],\n",
              "       [ 4,  5,  6,  7],\n",
              "       [ 8,  9, 10, 11],\n",
              "       [12, 13, 14, 15],\n",
              "       [16, 17, 18, 19],\n",
              "       [20, 21, 22, 23]])"
            ]
          },
          "execution_count": 102,
          "metadata": {},
          "output_type": "execute_result"
        }
      ],
      "source": [
        "arr"
      ]
    },
    {
      "cell_type": "code",
      "execution_count": null,
      "id": "85GZiu2SS3se",
      "metadata": {
        "colab": {
          "base_uri": "https://localhost:8080/"
        },
        "id": "85GZiu2SS3se",
        "outputId": "307eb7bd-d019-41fc-a938-9708158e18fd"
      },
      "outputs": [
        {
          "data": {
            "text/plain": [
              "array([[ 6,  7],\n",
              "       [10, 11],\n",
              "       [14, 15]])"
            ]
          },
          "execution_count": 106,
          "metadata": {},
          "output_type": "execute_result"
        }
      ],
      "source": [
        "arr[1:4,2:4]"
      ]
    },
    {
      "cell_type": "code",
      "execution_count": null,
      "id": "3FC4CH-rTGuU",
      "metadata": {
        "colab": {
          "base_uri": "https://localhost:8080/"
        },
        "id": "3FC4CH-rTGuU",
        "outputId": "0371c6b7-6bb9-485f-fb38-9018fff0b304"
      },
      "outputs": [
        {
          "data": {
            "text/plain": [
              "array([[12, 13, 14, 15]])"
            ]
          },
          "execution_count": 108,
          "metadata": {},
          "output_type": "execute_result"
        }
      ],
      "source": []
    },
    {
      "cell_type": "code",
      "execution_count": null,
      "id": "pPxO2iyTTYyl",
      "metadata": {
        "colab": {
          "base_uri": "https://localhost:8080/"
        },
        "id": "pPxO2iyTTYyl",
        "outputId": "a0967986-c32b-4eae-98e5-fc46ec0c5951"
      },
      "outputs": [
        {
          "data": {
            "text/plain": [
              "array([[ 0,  1,  2,  3],\n",
              "       [ 4,  5,  6,  7],\n",
              "       [ 8,  9, 10, 11],\n",
              "       [12, 13, 14, 15],\n",
              "       [16, 17, 18, 19],\n",
              "       [20, 21, 22, 23]])"
            ]
          },
          "execution_count": 109,
          "metadata": {},
          "output_type": "execute_result"
        }
      ],
      "source": [
        "arr"
      ]
    },
    {
      "cell_type": "code",
      "execution_count": null,
      "id": "E16Cc3eETqFP",
      "metadata": {
        "colab": {
          "base_uri": "https://localhost:8080/"
        },
        "id": "E16Cc3eETqFP",
        "outputId": "2b49df00-e833-49a6-8d84-600238621479"
      },
      "outputs": [
        {
          "data": {
            "text/plain": [
              "array([ 0,  1,  2,  3,  4,  5,  6,  7,  8,  9, 10, 11, 12, 13, 14, 15, 16,\n",
              "       17, 18, 19, 20, 21, 22, 23])"
            ]
          },
          "execution_count": 111,
          "metadata": {},
          "output_type": "execute_result"
        }
      ],
      "source": [
        "arr.flatten()"
      ]
    },
    {
      "cell_type": "code",
      "execution_count": null,
      "id": "Sxaws4H9Tw4l",
      "metadata": {
        "colab": {
          "base_uri": "https://localhost:8080/"
        },
        "id": "Sxaws4H9Tw4l",
        "outputId": "9d9d4d8c-9705-4925-916a-0d6312213a5a"
      },
      "outputs": [
        {
          "data": {
            "text/plain": [
              "11.5"
            ]
          },
          "execution_count": 114,
          "metadata": {},
          "output_type": "execute_result"
        }
      ],
      "source": [
        "arr.mean()"
      ]
    },
    {
      "cell_type": "code",
      "execution_count": null,
      "id": "RlNLPNoVT0LO",
      "metadata": {
        "id": "RlNLPNoVT0LO"
      },
      "outputs": [],
      "source": [
        "arr=np.arange(25)"
      ]
    },
    {
      "cell_type": "code",
      "execution_count": null,
      "id": "YE716E1HUFaT",
      "metadata": {
        "colab": {
          "base_uri": "https://localhost:8080/"
        },
        "id": "YE716E1HUFaT",
        "outputId": "8329ee5f-49cc-4b7f-e728-c549677bafeb"
      },
      "outputs": [
        {
          "data": {
            "text/plain": [
              "array([ 0,  1,  2,  3,  4,  5,  6,  7,  8,  9, 10, 11, 12, 13, 14, 15, 16,\n",
              "       17, 18, 19, 20, 21, 22, 23, 24])"
            ]
          },
          "execution_count": 117,
          "metadata": {},
          "output_type": "execute_result"
        }
      ],
      "source": [
        "arr"
      ]
    },
    {
      "cell_type": "code",
      "execution_count": null,
      "id": "wpURxIbhUIK8",
      "metadata": {
        "colab": {
          "base_uri": "https://localhost:8080/"
        },
        "id": "wpURxIbhUIK8",
        "outputId": "62dcf713-51da-440e-fde4-3a3e599004b1"
      },
      "outputs": [
        {
          "data": {
            "text/plain": [
              "[array([0, 1, 2, 3, 4, 5, 6, 7, 8]),\n",
              " array([ 9, 10, 11, 12, 13, 14, 15, 16]),\n",
              " array([17, 18, 19, 20, 21, 22, 23, 24])]"
            ]
          },
          "execution_count": 121,
          "metadata": {},
          "output_type": "execute_result"
        }
      ],
      "source": [
        "np.array_split(arr,3)"
      ]
    },
    {
      "cell_type": "markdown",
      "id": "adzeXyFdrFdg",
      "metadata": {
        "id": "adzeXyFdrFdg"
      },
      "source": [
        "## 14 OCT 2024"
      ]
    },
    {
      "cell_type": "code",
      "execution_count": null,
      "id": "qos7GNYqiFEo",
      "metadata": {
        "id": "qos7GNYqiFEo"
      },
      "outputs": [],
      "source": [
        "import matplotlib.pyplot as plt\n",
        "import numpy as np"
      ]
    },
    {
      "cell_type": "code",
      "execution_count": null,
      "id": "088JY1zpocht",
      "metadata": {
        "colab": {
          "base_uri": "https://localhost:8080/"
        },
        "id": "088JY1zpocht",
        "outputId": "d0c835ec-44df-4716-fc42-32c7dcaf8745"
      },
      "outputs": [
        {
          "data": {
            "text/plain": [
              "list"
            ]
          },
          "execution_count": 21,
          "metadata": {},
          "output_type": "execute_result"
        }
      ],
      "source": [
        "a=[0,6]\n",
        "type(a)"
      ]
    },
    {
      "cell_type": "code",
      "execution_count": null,
      "id": "5iccMd4gnv90",
      "metadata": {
        "id": "5iccMd4gnv90"
      },
      "outputs": [],
      "source": [
        "xpoints=np.array([11,15,16,19,13,19])\n",
        "ypoints=np.array([0,2,5,0,5,3])\n"
      ]
    },
    {
      "cell_type": "code",
      "execution_count": null,
      "id": "RARlDiKoovnN",
      "metadata": {
        "colab": {
          "base_uri": "https://localhost:8080/"
        },
        "id": "RARlDiKoovnN",
        "outputId": "a63dd384-ec83-41d3-b217-4858332a3859"
      },
      "outputs": [
        {
          "data": {
            "text/plain": [
              "(array([11, 15, 16, 19, 13, 19]), array([0, 2, 5, 0, 5, 3]))"
            ]
          },
          "execution_count": 36,
          "metadata": {},
          "output_type": "execute_result"
        }
      ],
      "source": [
        "xpoints,ypoints"
      ]
    },
    {
      "cell_type": "code",
      "execution_count": null,
      "id": "g8DQ56-lo401",
      "metadata": {
        "colab": {
          "base_uri": "https://localhost:8080/",
          "height": 448
        },
        "id": "g8DQ56-lo401",
        "outputId": "e5d40d46-fc49-47d2-8d59-7d583c46c6a9"
      },
      "outputs": [
        {
          "data": {
            "text/plain": [
              "[<matplotlib.lines.Line2D at 0x7efc4c712cb0>]"
            ]
          },
          "execution_count": 64,
          "metadata": {},
          "output_type": "execute_result"
        },
        {
          "data": {
            "image/png": "[encoded data removed]",
            "text/plain": [
              "<Figure size 640x480 with 1 Axes>"
            ]
          },
          "metadata": {},
          "output_type": "display_data"
        }
      ],
      "source": [
        "plt.plot(ypoints,'*-.b',ms=20,mec='#4CAF50',mfc='g',linewidth='10') #marker | \\line | color \\types of lines: -, :, --, -. #MEC: Marker Edge Colour #MFC: Marker Face Colour"
      ]
    },
    {
      "cell_type": "code",
      "execution_count": null,
      "id": "pC9uQpnupG0F",
      "metadata": {
        "id": "pC9uQpnupG0F"
      },
      "outputs": [],
      "source": [
        "carA=np.array([2,4,6,4,2,7])\n",
        "carB=np.array([5,3,4,6,7,2])"
      ]
    },
    {
      "cell_type": "code",
      "execution_count": null,
      "id": "Lh1QPrunuS5g",
      "metadata": {
        "colab": {
          "base_uri": "https://localhost:8080/",
          "height": 472
        },
        "id": "Lh1QPrunuS5g",
        "outputId": "0ee08dc7-a5a0-4a2c-b740-28b42a63008c"
      },
      "outputs": [
        {
          "data": {
            "image/png": "[encoded data removed]",
            "text/plain": [
              "<Figure size 640x480 with 1 Axes>"
            ]
          },
          "metadata": {},
          "output_type": "display_data"
        }
      ],
      "source": [
        "plt.plot(carA)\n",
        "plt.plot(carB)\n",
        "plt.xlabel(\"Average Pulse\")\n",
        "plt.ylabel(\"Calorie Burnage\")\n",
        "plt.title(\"Sports Watch Data\")\n",
        "plt.grid(axis='y')\n",
        "plt.show()"
      ]
    },
    {
      "cell_type": "code",
      "execution_count": null,
      "id": "EfVXQh1Euddx",
      "metadata": {
        "id": "EfVXQh1Euddx"
      },
      "outputs": [],
      "source": [
        "x=np.array([0,1,2,3])\n",
        "y=np.array([3,8,1,10])\n",
        "z=np.array([10,20,30,40])"
      ]
    },
    {
      "cell_type": "code",
      "execution_count": null,
      "id": "5cE-m2Phwf7U",
      "metadata": {
        "colab": {
          "base_uri": "https://localhost:8080/",
          "height": 430
        },
        "id": "5cE-m2Phwf7U",
        "outputId": "a5c2247f-0ccc-4375-bd24-b6b1a998e9a9"
      },
      "outputs": [
        {
          "data": {
            "image/png": "[encoded data removed]",
            "text/plain": [
              "<Figure size 640x480 with 6 Axes>"
            ]
          },
          "metadata": {},
          "output_type": "display_data"
        }
      ],
      "source": [
        "plt.subplot(3,2,1)\n",
        "plt.plot(x,y)\n",
        "\n",
        "plt.subplot(3,2,2)\n",
        "plt.plot(x,z)\n",
        "\n",
        "plt.subplot(3,2,3)\n",
        "plt.plot(x,y)\n",
        "\n",
        "plt.subplot(3,2,4)\n",
        "plt.plot(x,y)\n",
        "\n",
        "plt.subplot(3,2,5)\n",
        "plt.plot(x,y)\n",
        "\n",
        "plt.subplot(3,2,6)\n",
        "plt.plot(x,y)\n",
        "\n",
        "plt.show()"
      ]
    },
    {
      "cell_type": "code",
      "execution_count": null,
      "id": "DYKrRtoXxJOf",
      "metadata": {
        "id": "DYKrRtoXxJOf"
      },
      "outputs": [],
      "source": [
        "x=np.array([0,1,2,3,4,5,6,7,8,9])\n",
        "y=np.array([4,5,6,7,2,3,4,6,5,2])\n",
        "z=np.array([6,4,3,6,7,4,3,6,7,8])"
      ]
    },
    {
      "cell_type": "code",
      "execution_count": null,
      "id": "EwDg-Z9qz4bz",
      "metadata": {
        "colab": {
          "base_uri": "https://localhost:8080/",
          "height": 430
        },
        "id": "EwDg-Z9qz4bz",
        "outputId": "475a3ba3-57b1-48cb-bb90-4096746c74ec"
      },
      "outputs": [
        {
          "data": {
            "image/png": "[encoded data removed]",
            "text/plain": [
              "<Figure size 640x480 with 1 Axes>"
            ]
          },
          "metadata": {},
          "output_type": "display_data"
        }
      ],
      "source": [
        "plt.scatter(x,y,color='r')\n",
        "plt.scatter(x,z,color='g')\n",
        "plt.show()"
      ]
    },
    {
      "cell_type": "code",
      "execution_count": null,
      "id": "dfUQxxqYz8ky",
      "metadata": {
        "colab": {
          "base_uri": "https://localhost:8080/",
          "height": 430
        },
        "id": "dfUQxxqYz8ky",
        "outputId": "c3e9b115-7c1f-4aa8-f070-71314335433f"
      },
      "outputs": [
        {
          "data": {
            "image/png": "[encoded data removed]",
            "text/plain": [
              "<Figure size 640x480 with 1 Axes>"
            ]
          },
          "metadata": {},
          "output_type": "display_data"
        }
      ],
      "source": [
        "x=np.array([0,1,2,3])\n",
        "y=np.array([4,5,6,7,])\n",
        "color=np.array(['red','green','yellow','blue'])\n",
        "plt.scatter(x,y,c=color)\n",
        "plt.show()"
      ]
    },
    {
      "cell_type": "code",
      "execution_count": null,
      "id": "taKCKlsi1cUH",
      "metadata": {
        "colab": {
          "base_uri": "https://localhost:8080/",
          "height": 472
        },
        "id": "taKCKlsi1cUH",
        "outputId": "99db0172-4ba8-41a2-918d-9bbecdf09ff7"
      },
      "outputs": [
        {
          "data": {
            "image/png": "[encoded data removed]",
            "text/plain": [
              "<Figure size 640x480 with 1 Axes>"
            ]
          },
          "metadata": {},
          "output_type": "display_data"
        }
      ],
      "source": [
        "#BarGraph\n",
        "x=np.array([\"A\",\"B\",\"C\",\"D\"])\n",
        "y=np.array([3,8,1,10])\n",
        "plt.bar(x,y,color='hotpink',width=0.1)\n",
        "plt.title('Classes')\n",
        "plt.ylabel('count')\n",
        "plt.xlabel('sections')\n",
        "plt.show()"
      ]
    },
    {
      "cell_type": "code",
      "execution_count": null,
      "id": "iJcbehWF1zqX",
      "metadata": {
        "colab": {
          "base_uri": "https://localhost:8080/",
          "height": 778
        },
        "id": "iJcbehWF1zqX",
        "outputId": "ed378db5-f0c4-45f2-e8f2-81d1b0688117"
      },
      "outputs": [
        {
          "ename": "ValueError",
          "evalue": "`bins` must increase monotonically, when an array",
          "output_type": "error",
          "traceback": [
            "\u001b[0;31m---------------------------------------------------------------------------\u001b[0m",
            "\u001b[0;31mValueError\u001b[0m                                Traceback (most recent call last)",
            "\u001b[0;32m<ipython-input-97-74baf66ec8d7>\u001b[0m in \u001b[0;36m<cell line: 4>\u001b[0;34m()\u001b[0m\n\u001b[1;32m      2\u001b[0m \u001b[0mx\u001b[0m\u001b[0;34m=\u001b[0m\u001b[0mnp\u001b[0m\u001b[0;34m.\u001b[0m\u001b[0marray\u001b[0m\u001b[0;34m(\u001b[0m\u001b[0;34m[\u001b[0m\u001b[0;36m0\u001b[0m\u001b[0;34m,\u001b[0m\u001b[0;36m1\u001b[0m\u001b[0;34m,\u001b[0m\u001b[0;36m2\u001b[0m\u001b[0;34m,\u001b[0m\u001b[0;36m3\u001b[0m\u001b[0;34m]\u001b[0m\u001b[0;34m)\u001b[0m\u001b[0;34m\u001b[0m\u001b[0;34m\u001b[0m\u001b[0m\n\u001b[1;32m      3\u001b[0m \u001b[0my\u001b[0m\u001b[0;34m=\u001b[0m\u001b[0mnp\u001b[0m\u001b[0;34m.\u001b[0m\u001b[0marray\u001b[0m\u001b[0;34m(\u001b[0m\u001b[0;34m[\u001b[0m\u001b[0;36m3\u001b[0m\u001b[0;34m,\u001b[0m\u001b[0;36m8\u001b[0m\u001b[0;34m,\u001b[0m\u001b[0;36m1\u001b[0m\u001b[0;34m,\u001b[0m\u001b[0;36m10\u001b[0m\u001b[0;34m]\u001b[0m\u001b[0;34m)\u001b[0m\u001b[0;34m\u001b[0m\u001b[0;34m\u001b[0m\u001b[0m\n\u001b[0;32m----> 4\u001b[0;31m \u001b[0mplt\u001b[0m\u001b[0;34m.\u001b[0m\u001b[0mhist\u001b[0m\u001b[0;34m(\u001b[0m\u001b[0mx\u001b[0m\u001b[0;34m,\u001b[0m\u001b[0my\u001b[0m\u001b[0;34m)\u001b[0m\u001b[0;34m\u001b[0m\u001b[0;34m\u001b[0m\u001b[0m\n\u001b[0m\u001b[1;32m      5\u001b[0m \u001b[0mplt\u001b[0m\u001b[0;34m.\u001b[0m\u001b[0mshow\u001b[0m\u001b[0;34m(\u001b[0m\u001b[0;34m)\u001b[0m\u001b[0;34m\u001b[0m\u001b[0;34m\u001b[0m\u001b[0m\n",
            "\u001b[0;32m/usr/local/lib/python3.10/dist-packages/matplotlib/pyplot.py\u001b[0m in \u001b[0;36mhist\u001b[0;34m(x, bins, range, density, weights, cumulative, bottom, histtype, align, orientation, rwidth, log, color, label, stacked, data, **kwargs)\u001b[0m\n\u001b[1;32m   2643\u001b[0m         \u001b[0morientation\u001b[0m\u001b[0;34m=\u001b[0m\u001b[0;34m'vertical'\u001b[0m\u001b[0;34m,\u001b[0m \u001b[0mrwidth\u001b[0m\u001b[0;34m=\u001b[0m\u001b[0;32mNone\u001b[0m\u001b[0;34m,\u001b[0m \u001b[0mlog\u001b[0m\u001b[0;34m=\u001b[0m\u001b[0;32mFalse\u001b[0m\u001b[0;34m,\u001b[0m \u001b[0mcolor\u001b[0m\u001b[0;34m=\u001b[0m\u001b[0;32mNone\u001b[0m\u001b[0;34m,\u001b[0m\u001b[0;34m\u001b[0m\u001b[0;34m\u001b[0m\u001b[0m\n\u001b[1;32m   2644\u001b[0m         label=None, stacked=False, *, data=None, **kwargs):\n\u001b[0;32m-> 2645\u001b[0;31m     return gca().hist(\n\u001b[0m\u001b[1;32m   2646\u001b[0m         \u001b[0mx\u001b[0m\u001b[0;34m,\u001b[0m \u001b[0mbins\u001b[0m\u001b[0;34m=\u001b[0m\u001b[0mbins\u001b[0m\u001b[0;34m,\u001b[0m \u001b[0mrange\u001b[0m\u001b[0;34m=\u001b[0m\u001b[0mrange\u001b[0m\u001b[0;34m,\u001b[0m \u001b[0mdensity\u001b[0m\u001b[0;34m=\u001b[0m\u001b[0mdensity\u001b[0m\u001b[0;34m,\u001b[0m \u001b[0mweights\u001b[0m\u001b[0;34m=\u001b[0m\u001b[0mweights\u001b[0m\u001b[0;34m,\u001b[0m\u001b[0;34m\u001b[0m\u001b[0;34m\u001b[0m\u001b[0m\n\u001b[1;32m   2647\u001b[0m         \u001b[0mcumulative\u001b[0m\u001b[0;34m=\u001b[0m\u001b[0mcumulative\u001b[0m\u001b[0;34m,\u001b[0m \u001b[0mbottom\u001b[0m\u001b[0;34m=\u001b[0m\u001b[0mbottom\u001b[0m\u001b[0;34m,\u001b[0m \u001b[0mhisttype\u001b[0m\u001b[0;34m=\u001b[0m\u001b[0mhisttype\u001b[0m\u001b[0;34m,\u001b[0m\u001b[0;34m\u001b[0m\u001b[0;34m\u001b[0m\u001b[0m\n",
            "\u001b[0;32m/usr/local/lib/python3.10/dist-packages/matplotlib/__init__.py\u001b[0m in \u001b[0;36minner\u001b[0;34m(ax, data, *args, **kwargs)\u001b[0m\n\u001b[1;32m   1440\u001b[0m     \u001b[0;32mdef\u001b[0m \u001b[0minner\u001b[0m\u001b[0;34m(\u001b[0m\u001b[0max\u001b[0m\u001b[0;34m,\u001b[0m \u001b[0;34m*\u001b[0m\u001b[0margs\u001b[0m\u001b[0;34m,\u001b[0m \u001b[0mdata\u001b[0m\u001b[0;34m=\u001b[0m\u001b[0;32mNone\u001b[0m\u001b[0;34m,\u001b[0m \u001b[0;34m**\u001b[0m\u001b[0mkwargs\u001b[0m\u001b[0;34m)\u001b[0m\u001b[0;34m:\u001b[0m\u001b[0;34m\u001b[0m\u001b[0;34m\u001b[0m\u001b[0m\n\u001b[1;32m   1441\u001b[0m         \u001b[0;32mif\u001b[0m \u001b[0mdata\u001b[0m \u001b[0;32mis\u001b[0m \u001b[0;32mNone\u001b[0m\u001b[0;34m:\u001b[0m\u001b[0;34m\u001b[0m\u001b[0;34m\u001b[0m\u001b[0m\n\u001b[0;32m-> 1442\u001b[0;31m             \u001b[0;32mreturn\u001b[0m \u001b[0mfunc\u001b[0m\u001b[0;34m(\u001b[0m\u001b[0max\u001b[0m\u001b[0;34m,\u001b[0m \u001b[0;34m*\u001b[0m\u001b[0mmap\u001b[0m\u001b[0;34m(\u001b[0m\u001b[0msanitize_sequence\u001b[0m\u001b[0;34m,\u001b[0m \u001b[0margs\u001b[0m\u001b[0;34m)\u001b[0m\u001b[0;34m,\u001b[0m \u001b[0;34m**\u001b[0m\u001b[0mkwargs\u001b[0m\u001b[0;34m)\u001b[0m\u001b[0;34m\u001b[0m\u001b[0;34m\u001b[0m\u001b[0m\n\u001b[0m\u001b[1;32m   1443\u001b[0m \u001b[0;34m\u001b[0m\u001b[0m\n\u001b[1;32m   1444\u001b[0m         \u001b[0mbound\u001b[0m \u001b[0;34m=\u001b[0m \u001b[0mnew_sig\u001b[0m\u001b[0;34m.\u001b[0m\u001b[0mbind\u001b[0m\u001b[0;34m(\u001b[0m\u001b[0max\u001b[0m\u001b[0;34m,\u001b[0m \u001b[0;34m*\u001b[0m\u001b[0margs\u001b[0m\u001b[0;34m,\u001b[0m \u001b[0;34m**\u001b[0m\u001b[0mkwargs\u001b[0m\u001b[0;34m)\u001b[0m\u001b[0;34m\u001b[0m\u001b[0;34m\u001b[0m\u001b[0m\n",
            "\u001b[0;32m/usr/local/lib/python3.10/dist-packages/matplotlib/axes/_axes.py\u001b[0m in \u001b[0;36mhist\u001b[0;34m(self, x, bins, range, density, weights, cumulative, bottom, histtype, align, orientation, rwidth, log, color, label, stacked, **kwargs)\u001b[0m\n\u001b[1;32m   6788\u001b[0m             \u001b[0;31m# this will automatically overwrite bins,\u001b[0m\u001b[0;34m\u001b[0m\u001b[0;34m\u001b[0m\u001b[0m\n\u001b[1;32m   6789\u001b[0m             \u001b[0;31m# so that each histogram uses the same bins\u001b[0m\u001b[0;34m\u001b[0m\u001b[0;34m\u001b[0m\u001b[0m\n\u001b[0;32m-> 6790\u001b[0;31m             \u001b[0mm\u001b[0m\u001b[0;34m,\u001b[0m \u001b[0mbins\u001b[0m \u001b[0;34m=\u001b[0m \u001b[0mnp\u001b[0m\u001b[0;34m.\u001b[0m\u001b[0mhistogram\u001b[0m\u001b[0;34m(\u001b[0m\u001b[0mx\u001b[0m\u001b[0;34m[\u001b[0m\u001b[0mi\u001b[0m\u001b[0;34m]\u001b[0m\u001b[0;34m,\u001b[0m \u001b[0mbins\u001b[0m\u001b[0;34m,\u001b[0m \u001b[0mweights\u001b[0m\u001b[0;34m=\u001b[0m\u001b[0mw\u001b[0m\u001b[0;34m[\u001b[0m\u001b[0mi\u001b[0m\u001b[0;34m]\u001b[0m\u001b[0;34m,\u001b[0m \u001b[0;34m**\u001b[0m\u001b[0mhist_kwargs\u001b[0m\u001b[0;34m)\u001b[0m\u001b[0;34m\u001b[0m\u001b[0;34m\u001b[0m\u001b[0m\n\u001b[0m\u001b[1;32m   6791\u001b[0m             \u001b[0mtops\u001b[0m\u001b[0;34m.\u001b[0m\u001b[0mappend\u001b[0m\u001b[0;34m(\u001b[0m\u001b[0mm\u001b[0m\u001b[0;34m)\u001b[0m\u001b[0;34m\u001b[0m\u001b[0;34m\u001b[0m\u001b[0m\n\u001b[1;32m   6792\u001b[0m         \u001b[0mtops\u001b[0m \u001b[0;34m=\u001b[0m \u001b[0mnp\u001b[0m\u001b[0;34m.\u001b[0m\u001b[0marray\u001b[0m\u001b[0;34m(\u001b[0m\u001b[0mtops\u001b[0m\u001b[0;34m,\u001b[0m \u001b[0mfloat\u001b[0m\u001b[0;34m)\u001b[0m  \u001b[0;31m# causes problems later if it's an int\u001b[0m\u001b[0;34m\u001b[0m\u001b[0;34m\u001b[0m\u001b[0m\n",
            "\u001b[0;32m/usr/local/lib/python3.10/dist-packages/numpy/lib/histograms.py\u001b[0m in \u001b[0;36mhistogram\u001b[0;34m(a, bins, range, density, weights)\u001b[0m\n\u001b[1;32m    778\u001b[0m     \u001b[0ma\u001b[0m\u001b[0;34m,\u001b[0m \u001b[0mweights\u001b[0m \u001b[0;34m=\u001b[0m \u001b[0m_ravel_and_check_weights\u001b[0m\u001b[0;34m(\u001b[0m\u001b[0ma\u001b[0m\u001b[0;34m,\u001b[0m \u001b[0mweights\u001b[0m\u001b[0;34m)\u001b[0m\u001b[0;34m\u001b[0m\u001b[0;34m\u001b[0m\u001b[0m\n\u001b[1;32m    779\u001b[0m \u001b[0;34m\u001b[0m\u001b[0m\n\u001b[0;32m--> 780\u001b[0;31m     \u001b[0mbin_edges\u001b[0m\u001b[0;34m,\u001b[0m \u001b[0muniform_bins\u001b[0m \u001b[0;34m=\u001b[0m \u001b[0m_get_bin_edges\u001b[0m\u001b[0;34m(\u001b[0m\u001b[0ma\u001b[0m\u001b[0;34m,\u001b[0m \u001b[0mbins\u001b[0m\u001b[0;34m,\u001b[0m \u001b[0mrange\u001b[0m\u001b[0;34m,\u001b[0m \u001b[0mweights\u001b[0m\u001b[0;34m)\u001b[0m\u001b[0;34m\u001b[0m\u001b[0;34m\u001b[0m\u001b[0m\n\u001b[0m\u001b[1;32m    781\u001b[0m \u001b[0;34m\u001b[0m\u001b[0m\n\u001b[1;32m    782\u001b[0m     \u001b[0;31m# Histogram is an integer or a float array depending on the weights.\u001b[0m\u001b[0;34m\u001b[0m\u001b[0;34m\u001b[0m\u001b[0m\n",
            "\u001b[0;32m/usr/local/lib/python3.10/dist-packages/numpy/lib/histograms.py\u001b[0m in \u001b[0;36m_get_bin_edges\u001b[0;34m(a, bins, range, weights)\u001b[0m\n\u001b[1;32m    429\u001b[0m         \u001b[0mbin_edges\u001b[0m \u001b[0;34m=\u001b[0m \u001b[0mnp\u001b[0m\u001b[0;34m.\u001b[0m\u001b[0masarray\u001b[0m\u001b[0;34m(\u001b[0m\u001b[0mbins\u001b[0m\u001b[0;34m)\u001b[0m\u001b[0;34m\u001b[0m\u001b[0;34m\u001b[0m\u001b[0m\n\u001b[1;32m    430\u001b[0m         \u001b[0;32mif\u001b[0m \u001b[0mnp\u001b[0m\u001b[0;34m.\u001b[0m\u001b[0many\u001b[0m\u001b[0;34m(\u001b[0m\u001b[0mbin_edges\u001b[0m\u001b[0;34m[\u001b[0m\u001b[0;34m:\u001b[0m\u001b[0;34m-\u001b[0m\u001b[0;36m1\u001b[0m\u001b[0;34m]\u001b[0m \u001b[0;34m>\u001b[0m \u001b[0mbin_edges\u001b[0m\u001b[0;34m[\u001b[0m\u001b[0;36m1\u001b[0m\u001b[0;34m:\u001b[0m\u001b[0;34m]\u001b[0m\u001b[0;34m)\u001b[0m\u001b[0;34m:\u001b[0m\u001b[0;34m\u001b[0m\u001b[0;34m\u001b[0m\u001b[0m\n\u001b[0;32m--> 431\u001b[0;31m             raise ValueError(\n\u001b[0m\u001b[1;32m    432\u001b[0m                 '`bins` must increase monotonically, when an array')\n\u001b[1;32m    433\u001b[0m \u001b[0;34m\u001b[0m\u001b[0m\n",
            "\u001b[0;31mValueError\u001b[0m: `bins` must increase monotonically, when an array"
          ]
        },
        {
          "data": {
            "image/png": "[encoded data removed]",
            "text/plain": [
              "<Figure size 640x480 with 1 Axes>"
            ]
          },
          "metadata": {},
          "output_type": "display_data"
        }
      ],
      "source": [
        "#Histogram\n",
        "x=np.array([0,1,2,3])\n",
        "y=np.array([3,8,1,10])\n",
        "plt.hist(x,y)\n",
        "plt.show()"
      ]
    },
    {
      "cell_type": "code",
      "execution_count": null,
      "id": "32JdyVvQ4KCE",
      "metadata": {
        "id": "32JdyVvQ4KCE"
      },
      "outputs": [],
      "source": [
        "x=np.random.normal(170,10,250)"
      ]
    },
    {
      "cell_type": "code",
      "execution_count": null,
      "id": "N5ZR9xqJ4U7k",
      "metadata": {
        "colab": {
          "base_uri": "https://localhost:8080/"
        },
        "id": "N5ZR9xqJ4U7k",
        "outputId": "407d02b9-cd79-4ff4-904a-292acfc33ed5"
      },
      "outputs": [
        {
          "data": {
            "text/plain": [
              "array([165.02392746, 171.98317543, 176.2390702 , 169.95446232,\n",
              "       174.63856722, 144.08651368, 169.61375059, 160.2131168 ,\n",
              "       155.03099976, 170.30679912, 172.25325957, 159.50028624,\n",
              "       160.40766259, 175.37728589, 184.08776922, 176.28887289,\n",
              "       174.50039536, 171.62877073, 157.27564575, 158.37912853,\n",
              "       172.89613331, 174.38113539, 176.24071449, 179.89178894,\n",
              "       167.34585453, 174.12852572, 162.90131253, 165.1689598 ,\n",
              "       191.66755765, 167.68767716, 187.62432821, 179.55697399,\n",
              "       194.92509364, 161.90384618, 165.65615452, 169.30972462,\n",
              "       170.98994524, 180.1244224 , 181.79937264, 159.56339038,\n",
              "       147.43227065, 186.93126429, 167.22802292, 184.97862659,\n",
              "       175.82110925, 171.94307928, 168.98185871, 161.1989313 ,\n",
              "       163.21317205, 167.15270347, 160.91065586, 183.73000861,\n",
              "       173.02817491, 174.04218184, 185.17916996, 153.16034384,\n",
              "       175.39841592, 163.36923883, 191.44871657, 176.9140752 ,\n",
              "       173.77897159, 174.34420466, 163.30199162, 157.84780306,\n",
              "       163.17262323, 163.27598294, 161.87374796, 150.93915621,\n",
              "       169.46143568, 163.68782246, 167.8236829 , 173.07285368,\n",
              "       163.45349095, 186.541484  , 165.53688988, 159.84260379,\n",
              "       171.36812593, 145.39554345, 182.8953945 , 150.20079218,\n",
              "       170.23572443, 184.97553858, 172.18882435, 166.31431434,\n",
              "       177.77314043, 172.72473124, 171.69207674, 171.57686864,\n",
              "       154.1695158 , 178.97199604, 163.24371603, 158.80637494,\n",
              "       169.35211633, 164.60881939, 161.59515721, 180.5477016 ,\n",
              "       161.19687753, 177.95935855, 166.97886643, 161.37933403,\n",
              "       177.84280737, 169.53819656, 165.53622506, 182.07130864,\n",
              "       155.58472101, 191.49645137, 159.25327319, 166.5456746 ,\n",
              "       164.50749912, 173.15927393, 162.96672758, 177.73131845,\n",
              "       174.99389558, 155.36869104, 172.33169155, 173.48407987,\n",
              "       182.66703786, 162.99767173, 158.42026767, 148.47738171,\n",
              "       167.52424426, 152.14865787, 162.96434335, 178.18300397,\n",
              "       194.98121372, 167.01771879, 167.76471711, 174.02682638,\n",
              "       167.15537524, 168.71512225, 164.74993667, 161.05315839,\n",
              "       165.53947733, 169.02688895, 167.36999992, 162.32999568,\n",
              "       156.36457055, 179.01141196, 177.73620502, 152.72667301,\n",
              "       170.31730207, 173.49956145, 164.3881761 , 176.28667866,\n",
              "       177.34498322, 166.77110659, 154.13368809, 182.8007016 ,\n",
              "       155.93840133, 162.40522063, 172.88845158, 186.51048154,\n",
              "       174.86976869, 184.84171785, 177.41199348, 155.9169916 ,\n",
              "       150.28292781, 172.75214041, 177.65606848, 171.13204523,\n",
              "       188.68667691, 173.9577776 , 161.56512909, 152.80243211,\n",
              "       171.61632602, 174.58232466, 167.88451783, 178.935995  ,\n",
              "       175.07673146, 161.2576092 , 182.1241844 , 163.18198101,\n",
              "       172.5162337 , 158.25595445, 176.50659179, 165.80478235,\n",
              "       183.97323579, 155.56535418, 169.14979336, 170.46144164,\n",
              "       168.74688763, 171.28901213, 162.66664283, 175.81548373,\n",
              "       162.7060015 , 182.19663632, 154.5817205 , 177.5114278 ,\n",
              "       174.83716125, 178.06322741, 167.06002643, 183.1730165 ,\n",
              "       181.72315494, 166.98924911, 167.60455907, 171.11179221,\n",
              "       188.76615122, 164.60581935, 180.11452374, 180.09875638,\n",
              "       175.29890511, 168.44030895, 153.68269305, 189.23686263,\n",
              "       159.75014684, 162.54780417, 185.68430911, 185.18479257,\n",
              "       171.04851796, 150.33500068, 181.55478805, 157.52462576,\n",
              "       169.49651864, 194.84543418, 159.16333677, 161.40562681,\n",
              "       177.5508321 , 175.08853467, 176.6270346 , 177.10031619,\n",
              "       154.43474383, 173.39373695, 171.05435855, 159.92001961,\n",
              "       153.44244634, 176.24947695, 162.40638943, 183.54092384,\n",
              "       159.17803493, 173.6736272 , 172.2278855 , 178.37448986,\n",
              "       170.19344767, 160.06377876, 183.94264454, 170.86879442,\n",
              "       169.94064899, 165.21538687, 149.39661039, 181.81405515,\n",
              "       148.88613973, 155.36382741, 174.58700142, 178.96440513,\n",
              "       170.07776024, 175.48669328, 172.07696505, 170.15513051,\n",
              "       175.27593396, 158.74517857])"
            ]
          },
          "execution_count": 99,
          "metadata": {},
          "output_type": "execute_result"
        }
      ],
      "source": [
        "x"
      ]
    },
    {
      "cell_type": "code",
      "execution_count": null,
      "id": "TKJhoHDP4Vic",
      "metadata": {
        "colab": {
          "base_uri": "https://localhost:8080/",
          "height": 518
        },
        "id": "TKJhoHDP4Vic",
        "outputId": "4211b1a5-6357-459c-d0bb-c2a02c804a9b"
      },
      "outputs": [
        {
          "data": {
            "text/plain": [
              "(array([ 5., 13., 21., 39., 40., 52., 40., 21., 13.,  6.]),\n",
              " array([144.08651368, 149.17598368, 154.26545369, 159.35492369,\n",
              "        164.4443937 , 169.5338637 , 174.6233337 , 179.71280371,\n",
              "        184.80227371, 189.89174372, 194.98121372]),\n",
              " <BarContainer object of 10 artists>)"
            ]
          },
          "execution_count": 100,
          "metadata": {},
          "output_type": "execute_result"
        },
        {
          "data": {
            "image/png": "[encoded data removed]",
            "text/plain": [
              "<Figure size 640x480 with 1 Axes>"
            ]
          },
          "metadata": {},
          "output_type": "display_data"
        }
      ],
      "source": [
        "plt.hist(x)"
      ]
    },
    {
      "cell_type": "code",
      "execution_count": null,
      "id": "w625TEXT4dNN",
      "metadata": {
        "colab": {
          "base_uri": "https://localhost:8080/",
          "height": 406
        },
        "id": "w625TEXT4dNN",
        "outputId": "d92832e8-9979-43f4-8fcd-1f17be33e03e"
      },
      "outputs": [
        {
          "data": {
            "image/png": "[encoded data removed]",
            "text/plain": [
              "<Figure size 640x480 with 1 Axes>"
            ]
          },
          "metadata": {},
          "output_type": "display_data"
        }
      ],
      "source": [
        "y=np.array([35,25,25,15])\n",
        "plt.pie(y)\n",
        "plt.show()"
      ]
    },
    {
      "cell_type": "markdown",
      "id": "3TMLsyz4xnY8",
      "metadata": {
        "id": "3TMLsyz4xnY8"
      },
      "source": [
        "## 15 Oct 2024\n"
      ]
    },
    {
      "cell_type": "code",
      "execution_count": null,
      "id": "NDSKVYAYziYC",
      "metadata": {
        "id": "NDSKVYAYziYC"
      },
      "outputs": [],
      "source": [
        "import matplotlib.pyplot as plt\n",
        "import numpy as np"
      ]
    },
    {
      "cell_type": "code",
      "execution_count": null,
      "id": "EaWXKYVgy3Kg",
      "metadata": {
        "id": "EaWXKYVgy3Kg"
      },
      "outputs": [],
      "source": [
        "def func(x):\n",
        "  return x*x*x - x*x +2\n",
        "def derivFunc(x):\n",
        "  return 3*x*x-2*x"
      ]
    },
    {
      "cell_type": "code",
      "execution_count": null,
      "id": "BPFSBGRf0A2h",
      "metadata": {
        "id": "BPFSBGRf0A2h"
      },
      "outputs": [],
      "source": [
        "points=[]"
      ]
    },
    {
      "cell_type": "code",
      "execution_count": null,
      "id": "ejguGFoU4qoL",
      "metadata": {
        "id": "ejguGFoU4qoL"
      },
      "outputs": [],
      "source": [
        "def NetwonRapson(x):\n",
        "  global points\n",
        "  h=func(x)/derivFunc(x)\n",
        "  while( np.abs(h)>=0.00001):\n",
        "    h=func(x)/derivFunc(x)\n",
        "    x=x-h\n",
        "    points.append(x)\n",
        "    print(\"value of x in next itertation is \",x)\n",
        "  print(\"The value of root is : \",x)"
      ]
    },
    {
      "cell_type": "code",
      "execution_count": null,
      "id": "be1_m2gIzeYl",
      "metadata": {
        "colab": {
          "base_uri": "https://localhost:8080/"
        },
        "id": "be1_m2gIzeYl",
        "outputId": "8f4f0783-a2ae-4170-e987-f82544dee171"
      },
      "outputs": [
        {
          "data": {
            "text/plain": [
              "[1.875,\n",
              " 2.702205882352941,\n",
              " 2.9658338193634397,\n",
              " 2.9994356188003692,\n",
              " 2.9999998408267654,\n",
              " 2.999999999999987,\n",
              " -13.227419354838709,\n",
              " -8.716127265539962,\n",
              " -5.715686860871689,\n",
              " -3.729227958342401,\n",
              " -2.43255863785565,\n",
              " -1.622923986083026,\n",
              " -1.1826032618851028,\n",
              " -1.0221850914414865,\n",
              " -1.0003843536579045,\n",
              " -1.0000001181322415,\n",
              " -1.000000000000011]"
            ]
          },
          "execution_count": 40,
          "metadata": {},
          "output_type": "execute_result"
        }
      ],
      "source": [
        "points"
      ]
    },
    {
      "cell_type": "code",
      "execution_count": null,
      "id": "CWfkKldUzV9z",
      "metadata": {
        "colab": {
          "base_uri": "https://localhost:8080/"
        },
        "id": "CWfkKldUzV9z",
        "outputId": "3583233e-ec47-4920-e96e-a30551b5f026"
      },
      "outputs": [
        {
          "name": "stdout",
          "output_type": "stream",
          "text": [
            "value of x in next itertation is  -13.227419354838709\n",
            "value of x in next itertation is  -8.716127265539962\n",
            "value of x in next itertation is  -5.715686860871689\n",
            "value of x in next itertation is  -3.729227958342401\n",
            "value of x in next itertation is  -2.43255863785565\n",
            "value of x in next itertation is  -1.622923986083026\n",
            "value of x in next itertation is  -1.1826032618851028\n",
            "value of x in next itertation is  -1.0221850914414865\n",
            "value of x in next itertation is  -1.0003843536579045\n",
            "value of x in next itertation is  -1.0000001181322415\n",
            "value of x in next itertation is  -1.000000000000011\n",
            "The value of root is :  -1.000000000000011\n"
          ]
        }
      ],
      "source": [
        "x0=-20\n",
        "NetwonRapson(x0)"
      ]
    },
    {
      "cell_type": "code",
      "execution_count": null,
      "id": "aVWXl9MLxscv",
      "metadata": {
        "colab": {
          "base_uri": "https://localhost:8080/"
        },
        "id": "aVWXl9MLxscv",
        "outputId": "6a7f0a3c-0f67-4fc6-9bfe-bdaeb9fe3693"
      },
      "outputs": [
        {
          "data": {
            "text/plain": [
              "[-2487.295060676882,\n",
              " -736.1426852046757,\n",
              " -217.3952864079185,\n",
              " -63.77004081946913,\n",
              " -18.311621770293822,\n",
              " -4.9084729683475095,\n",
              " -1.0524808286924165,\n",
              " -0.11290508935669852,\n",
              " -0.001922359257239492,\n",
              " -5.906612638995057e-07,\n",
              " -5.551115123125783e-14]"
            ]
          },
          "execution_count": 46,
          "metadata": {},
          "output_type": "execute_result"
        }
      ],
      "source": [
        "ypoints=[func(x) for x in points]\n",
        "ypoints"
      ]
    },
    {
      "cell_type": "code",
      "execution_count": null,
      "id": "UjFx_gycx29P",
      "metadata": {
        "colab": {
          "base_uri": "https://localhost:8080/",
          "height": 447
        },
        "id": "UjFx_gycx29P",
        "outputId": "42d02699-b21e-4a14-bd9f-d8c39f5bb69d"
      },
      "outputs": [
        {
          "data": {
            "text/plain": [
              "[<matplotlib.lines.Line2D at 0x7b853e39a650>]"
            ]
          },
          "execution_count": 47,
          "metadata": {},
          "output_type": "execute_result"
        },
        {
          "data": {
            "image/png": "[encoded data removed]",
            "text/plain": [
              "<Figure size 640x480 with 1 Axes>"
            ]
          },
          "metadata": {},
          "output_type": "display_data"
        }
      ],
      "source": [
        "plt.plot(points,ypoints,':o')"
      ]
    },
    {
      "cell_type": "code",
      "execution_count": null,
      "id": "dBnnck6-5LKl",
      "metadata": {
        "id": "dBnnck6-5LKl"
      },
      "outputs": [],
      "source": [
        "x=[3,5,7]\n",
        "y=[30,50,70]\n",
        "xp=9\n",
        "n=len(x)"
      ]
    },
    {
      "cell_type": "code",
      "execution_count": null,
      "id": "kPUcSBql5XQE",
      "metadata": {
        "id": "kPUcSBql5XQE"
      },
      "outputs": [],
      "source": []
    },
    {
      "cell_type": "code",
      "execution_count": null,
      "id": "LDjQ6Ec80n5C",
      "metadata": {
        "id": "LDjQ6Ec80n5C"
      },
      "outputs": [],
      "source": [
        "sum=0\n",
        "for j in range(n):\n",
        "\n",
        "  prod=1\n",
        "  for i in range(n):\n",
        "    if i!=j:\n",
        "      prod=prod*(xp-x[i])/(x[j]-x[i])\n",
        "  sum=sum+prod*y[j]"
      ]
    },
    {
      "cell_type": "code",
      "execution_count": null,
      "id": "dy8AL6Ic7Bob",
      "metadata": {
        "colab": {
          "base_uri": "https://localhost:8080/"
        },
        "id": "dy8AL6Ic7Bob",
        "outputId": "2667d43c-f901-4e58-ad70-aa4fc1d021a5"
      },
      "outputs": [
        {
          "data": {
            "text/plain": [
              "90.0"
            ]
          },
          "execution_count": 56,
          "metadata": {},
          "output_type": "execute_result"
        }
      ],
      "source": [
        "sum"
      ]
    },
    {
      "cell_type": "code",
      "execution_count": null,
      "id": "ctq0q6iH7LXn",
      "metadata": {
        "id": "ctq0q6iH7LXn"
      },
      "outputs": [],
      "source": []
    }
  ],
  "metadata": {
    "colab": {
      "provenance": []
    },
    "kernelspec": {
      "display_name": "Python 3 (ipykernel)",
      "language": "python",
      "name": "python3"
    },
    "language_info": {
      "codemirror_mode": {
        "name": "ipython",
        "version": 3
      },
      "file_extension": ".py",
      "mimetype": "text/x-python",
      "name": "python",
      "nbconvert_exporter": "python",
      "pygments_lexer": "ipython3",
      "version": "3.9.12"
    }
  },
  "nbformat": 4,
  "nbformat_minor": 5
}
